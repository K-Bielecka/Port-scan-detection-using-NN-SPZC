{
 "cells": [
  {
   "cell_type": "code",
   "execution_count": 30,
   "metadata": {},
   "outputs": [],
   "source": [
    "import os\n",
    "import pandas as pd\n",
    "import numpy as np\n",
    "\n",
    "from sklearn.model_selection import train_test_split"
   ]
  },
  {
   "cell_type": "code",
   "execution_count": 36,
   "metadata": {},
   "outputs": [
    {
     "name": "stderr",
     "output_type": "stream",
     "text": [
      "C:\\Users\\olgas\\AppData\\Local\\Temp\\ipykernel_13708\\4191304755.py:4: FutureWarning: The error_bad_lines argument has been deprecated and will be removed in a future version. Use on_bad_lines in the future.\n",
      "\n",
      "\n",
      "  df = pd.read_csv(file_name, skipinitialspace=True, error_bad_lines=False)\n"
     ]
    }
   ],
   "source": [
    "file_name = os.path.join(\"datasets\", \"Thursday-WorkingHours-Morning-WebAttacks.pcap_ISCX.csv\")\n",
    "\n",
    "# Read dataset\n",
    "df = pd.read_csv(file_name, skipinitialspace=True, error_bad_lines=False)"
   ]
  },
  {
   "cell_type": "code",
   "execution_count": 37,
   "metadata": {},
   "outputs": [],
   "source": [
    "def _renaming_class_label(df: pd.DataFrame):\n",
    "    labels = {\"Web Attack � Brute Force\": \"Web Attack-Brute Force\",\n",
    "              \"Web Attack � XSS\": \"Web Attack-XSS\",\n",
    "              \"Web Attack � Sql Injection\": \"Web Attack-Sql Injection\"}\n",
    "\n",
    "    for old_label, new_label in labels.items():\n",
    "        df.Label.replace(old_label, new_label, inplace=True)\n",
    "\n",
    "# Renaming labels\n",
    "_renaming_class_label(df)"
   ]
  },
  {
   "cell_type": "code",
   "execution_count": 38,
   "metadata": {},
   "outputs": [],
   "source": [
    "df.to_csv(file_name, index=False)"
   ]
  },
  {
   "cell_type": "code",
   "execution_count": 42,
   "metadata": {},
   "outputs": [
    {
     "name": "stdout",
     "output_type": "stream",
     "text": [
      "<class 'pandas.core.frame.DataFrame'>\n",
      "RangeIndex: 286467 entries, 0 to 286466\n",
      "Data columns (total 79 columns):\n",
      " #   Column                        Non-Null Count   Dtype  \n",
      "---  ------                        --------------   -----  \n",
      " 0    Destination Port             286467 non-null  int64  \n",
      " 1    Flow Duration                286467 non-null  int64  \n",
      " 2    Total Fwd Packets            286467 non-null  int64  \n",
      " 3    Total Backward Packets       286467 non-null  int64  \n",
      " 4   Total Length of Fwd Packets   286467 non-null  int64  \n",
      " 5    Total Length of Bwd Packets  286467 non-null  int64  \n",
      " 6    Fwd Packet Length Max        286467 non-null  int64  \n",
      " 7    Fwd Packet Length Min        286467 non-null  int64  \n",
      " 8    Fwd Packet Length Mean       286467 non-null  float64\n",
      " 9    Fwd Packet Length Std        286467 non-null  float64\n",
      " 10  Bwd Packet Length Max         286467 non-null  int64  \n",
      " 11   Bwd Packet Length Min        286467 non-null  int64  \n",
      " 12   Bwd Packet Length Mean       286467 non-null  float64\n",
      " 13   Bwd Packet Length Std        286467 non-null  float64\n",
      " 14  Flow Bytes/s                  286452 non-null  float64\n",
      " 15   Flow Packets/s               286467 non-null  float64\n",
      " 16   Flow IAT Mean                286467 non-null  float64\n",
      " 17   Flow IAT Std                 286467 non-null  float64\n",
      " 18   Flow IAT Max                 286467 non-null  int64  \n",
      " 19   Flow IAT Min                 286467 non-null  int64  \n",
      " 20  Fwd IAT Total                 286467 non-null  int64  \n",
      " 21   Fwd IAT Mean                 286467 non-null  float64\n",
      " 22   Fwd IAT Std                  286467 non-null  float64\n",
      " 23   Fwd IAT Max                  286467 non-null  int64  \n",
      " 24   Fwd IAT Min                  286467 non-null  int64  \n",
      " 25  Bwd IAT Total                 286467 non-null  int64  \n",
      " 26   Bwd IAT Mean                 286467 non-null  float64\n",
      " 27   Bwd IAT Std                  286467 non-null  float64\n",
      " 28   Bwd IAT Max                  286467 non-null  int64  \n",
      " 29   Bwd IAT Min                  286467 non-null  int64  \n",
      " 30  Fwd PSH Flags                 286467 non-null  int64  \n",
      " 31   Bwd PSH Flags                286467 non-null  int64  \n",
      " 32   Fwd URG Flags                286467 non-null  int64  \n",
      " 33   Bwd URG Flags                286467 non-null  int64  \n",
      " 34   Fwd Header Length            286467 non-null  int64  \n",
      " 35   Bwd Header Length            286467 non-null  int64  \n",
      " 36  Fwd Packets/s                 286467 non-null  float64\n",
      " 37   Bwd Packets/s                286467 non-null  float64\n",
      " 38   Min Packet Length            286467 non-null  int64  \n",
      " 39   Max Packet Length            286467 non-null  int64  \n",
      " 40   Packet Length Mean           286467 non-null  float64\n",
      " 41   Packet Length Std            286467 non-null  float64\n",
      " 42   Packet Length Variance       286467 non-null  float64\n",
      " 43  FIN Flag Count                286467 non-null  int64  \n",
      " 44   SYN Flag Count               286467 non-null  int64  \n",
      " 45   RST Flag Count               286467 non-null  int64  \n",
      " 46   PSH Flag Count               286467 non-null  int64  \n",
      " 47   ACK Flag Count               286467 non-null  int64  \n",
      " 48   URG Flag Count               286467 non-null  int64  \n",
      " 49   CWE Flag Count               286467 non-null  int64  \n",
      " 50   ECE Flag Count               286467 non-null  int64  \n",
      " 51   Down/Up Ratio                286467 non-null  int64  \n",
      " 52   Average Packet Size          286467 non-null  float64\n",
      " 53   Avg Fwd Segment Size         286467 non-null  float64\n",
      " 54   Avg Bwd Segment Size         286467 non-null  float64\n",
      " 55   Fwd Header Length.1          286467 non-null  int64  \n",
      " 56  Fwd Avg Bytes/Bulk            286467 non-null  int64  \n",
      " 57   Fwd Avg Packets/Bulk         286467 non-null  int64  \n",
      " 58   Fwd Avg Bulk Rate            286467 non-null  int64  \n",
      " 59   Bwd Avg Bytes/Bulk           286467 non-null  int64  \n",
      " 60   Bwd Avg Packets/Bulk         286467 non-null  int64  \n",
      " 61  Bwd Avg Bulk Rate             286467 non-null  int64  \n",
      " 62  Subflow Fwd Packets           286467 non-null  int64  \n",
      " 63   Subflow Fwd Bytes            286467 non-null  int64  \n",
      " 64   Subflow Bwd Packets          286467 non-null  int64  \n",
      " 65   Subflow Bwd Bytes            286467 non-null  int64  \n",
      " 66  Init_Win_bytes_forward        286467 non-null  int64  \n",
      " 67   Init_Win_bytes_backward      286467 non-null  int64  \n",
      " 68   act_data_pkt_fwd             286467 non-null  int64  \n",
      " 69   min_seg_size_forward         286467 non-null  int64  \n",
      " 70  Active Mean                   286467 non-null  float64\n",
      " 71   Active Std                   286467 non-null  float64\n",
      " 72   Active Max                   286467 non-null  int64  \n",
      " 73   Active Min                   286467 non-null  int64  \n",
      " 74  Idle Mean                     286467 non-null  float64\n",
      " 75   Idle Std                     286467 non-null  float64\n",
      " 76   Idle Max                     286467 non-null  int64  \n",
      " 77   Idle Min                     286467 non-null  int64  \n",
      " 78   Label                        286467 non-null  object \n",
      "dtypes: float64(24), int64(54), object(1)\n",
      "memory usage: 172.7+ MB\n"
     ]
    }
   ],
   "source": [
    "df_ps = pd.read_csv(\"datasets/Friday-WorkingHours-Afternoon-PortScan.pcap_ISCX.csv\")\n",
    "df_ps.info()"
   ]
  },
  {
   "cell_type": "code",
   "execution_count": 55,
   "metadata": {},
   "outputs": [],
   "source": [
    "df_ps = pd.read_csv(\"datasets/Friday-WorkingHours-Afternoon-PortScan.pcap_ISCX.csv\")\n",
    "\n",
    "y = df_ps[' Label']\n",
    "x = df_ps.drop(columns=[' Label'])\n",
    "\n",
    "x_train, x_test, y_train, y_test = train_test_split(x, y, stratify=y, test_size=0.15,\n",
    "                                                    random_state=np.random.randint(10))\n",
    "\n",
    "del x, y\n",
    "\n",
    "train = pd.concat([x_train, y_train], axis=1, sort=False)\n",
    "test = pd.concat([x_test, y_test], axis=1, sort=False)\n",
    "\n",
    "train.to_csv('datasets/Friday-WorkingHours-Afternoon-PortScan-train.pcap_ISCX.csv', index=False, mode='a')\n",
    "test.to_csv('datasets/Friday-WorkingHours-Afternoon-PortScan-validation.pcap_ISCX.csv', index=False, mode='a')"
   ]
  },
  {
   "cell_type": "code",
   "execution_count": 56,
   "metadata": {},
   "outputs": [],
   "source": [
    "DIR_PATH = \"datasets\"\n",
    "\n",
    "FILE_NAMES = [\"Monday-WorkingHours.pcap_ISCX.csv\",\n",
    "              \"Tuesday-WorkingHours.pcap_ISCX.csv\",\n",
    "              \"Wednesday-workingHours.pcap_ISCX.csv\",\n",
    "              \"Thursday-WorkingHours-Morning-WebAttacks.pcap_ISCX.csv\",\n",
    "              \"Thursday-WorkingHours-Afternoon-Infilteration.pcap_ISCX.csv\",\n",
    "              \"Friday-WorkingHours-Morning.pcap_ISCX.csv\",\n",
    "              \"Friday-WorkingHours-Afternoon-PortScan-train.pcap_ISCX.csv\",\n",
    "              \"Friday-WorkingHours-Afternoon-DDos.pcap_ISCX.csv\"]"
   ]
  },
  {
   "cell_type": "code",
   "execution_count": 57,
   "metadata": {},
   "outputs": [],
   "source": [
    "df = [pd.read_csv(os.path.join(DIR_PATH, f), skipinitialspace=True) for f in FILE_NAMES]\n",
    "df = pd.concat(df, ignore_index=True)"
   ]
  },
  {
   "cell_type": "code",
   "execution_count": 58,
   "metadata": {},
   "outputs": [
    {
     "data": {
      "text/plain": [
       "BENIGN                      2214224\n",
       "DoS Hulk                     231073\n",
       "PortScan                     135090\n",
       "DDoS                         128027\n",
       "DoS GoldenEye                 10293\n",
       "FTP-Patator                    7938\n",
       "SSH-Patator                    5897\n",
       "DoS slowloris                  5796\n",
       "DoS Slowhttptest               5499\n",
       "Bot                            1966\n",
       "Web Attack-Brute Force         1507\n",
       "Web Attack-XSS                  652\n",
       "Infiltration                     36\n",
       "Web Attack-Sql Injection         21\n",
       "Heartbleed                       11\n",
       "Name: Label, dtype: int64"
      ]
     },
     "execution_count": 58,
     "metadata": {},
     "output_type": "execute_result"
    }
   ],
   "source": [
    "df.Label.value_counts()"
   ]
  },
  {
   "cell_type": "code",
   "execution_count": 60,
   "metadata": {},
   "outputs": [],
   "source": [
    "df.to_csv(os.path.join(DIR_PATH, \"MachineLearningCVE.csv\"), index=False)"
   ]
  }
 ],
 "metadata": {
  "kernelspec": {
   "display_name": "Python 3",
   "language": "python",
   "name": "python3"
  },
  "language_info": {
   "codemirror_mode": {
    "name": "ipython",
    "version": 3
   },
   "file_extension": ".py",
   "mimetype": "text/x-python",
   "name": "python",
   "nbconvert_exporter": "python",
   "pygments_lexer": "ipython3",
   "version": "3.10.11"
  },
  "orig_nbformat": 4,
  "vscode": {
   "interpreter": {
    "hash": "590fc05e1ed446e1fbcc628fa0008e96d4f6e22e106fbb51d01a946bc7e51d3b"
   }
  }
 },
 "nbformat": 4,
 "nbformat_minor": 2
}
