{
 "cells": [
  {
   "cell_type": "code",
   "execution_count": 1,
   "metadata": {},
   "outputs": [],
   "source": [
    "import os\n",
    "import pandas as pd\n",
    "import numpy as np\n",
    "\n",
    "from sklearn.model_selection import train_test_split"
   ]
  },
  {
   "cell_type": "code",
   "execution_count": 9,
   "metadata": {},
   "outputs": [
    {
     "name": "stderr",
     "output_type": "stream",
     "text": [
      "C:\\Users\\olgas\\AppData\\Local\\Temp\\ipykernel_15264\\4191304755.py:4: FutureWarning: The error_bad_lines argument has been deprecated and will be removed in a future version. Use on_bad_lines in the future.\n",
      "\n",
      "\n",
      "  df = pd.read_csv(file_name, skipinitialspace=True, error_bad_lines=False)\n"
     ]
    }
   ],
   "source": [
    "file_name = os.path.join(\"data\", \"Thursday-WorkingHours-Morning-WebAttacks.pcap_ISCX.csv\")\n",
    "\n",
    "# Read dataset\n",
    "df = pd.read_csv(file_name, skipinitialspace=True, error_bad_lines=False)"
   ]
  },
  {
   "cell_type": "code",
   "execution_count": 10,
   "metadata": {},
   "outputs": [],
   "source": [
    "# Rename incorrectly encoded labels\n",
    "def _rename_class_label(df: pd.DataFrame):\n",
    "    labels = {\"Web Attack � Brute Force\": \"Web Attack-Brute Force\",\n",
    "              \"Web Attack � XSS\": \"Web Attack-XSS\",\n",
    "              \"Web Attack � Sql Injection\": \"Web Attack-Sql Injection\"}\n",
    "\n",
    "    for old_label, new_label in labels.items():\n",
    "        df.Label.replace(old_label, new_label, inplace=True)\n",
    "\n",
    "_rename_class_label(df)\n",
    "df.to_csv(file_name, index=False)"
   ]
  },
  {
   "cell_type": "code",
   "execution_count": 11,
   "metadata": {},
   "outputs": [],
   "source": [
    "# Set aside part of Port Scan dataset to create validation subset\n",
    "def _create_validation_set(df_ps):\n",
    "    df_ps = pd.read_csv(\"data/Friday-WorkingHours-Afternoon-PortScan.pcap_ISCX.csv\")\n",
    "\n",
    "    y = df_ps[' Label']\n",
    "    x = df_ps.drop(columns=[' Label'])\n",
    "\n",
    "    x_train, x_test, y_train, y_test = train_test_split(x, y, stratify=y, test_size=0.15,\n",
    "                                                        random_state=np.random.randint(10))\n",
    "\n",
    "    del x, y\n",
    "\n",
    "    train = pd.concat([x_train, y_train], axis=1, sort=False)\n",
    "    test = pd.concat([x_test, y_test], axis=1, sort=False)\n",
    "\n",
    "    train.to_csv('data/Friday-WorkingHours-Afternoon-PortScan-train.pcap_ISCX.csv', index=False, mode='a')\n",
    "    test.to_csv('data/Friday-WorkingHours-Afternoon-PortScan-validation.pcap_ISCX.csv', index=False, mode='a')\n",
    "\n",
    "df_ps = pd.read_csv(\"data/Friday-WorkingHours-Afternoon-PortScan.pcap_ISCX.csv\")\n",
    "_create_validation_set(df_ps)"
   ]
  },
  {
   "cell_type": "code",
   "execution_count": 12,
   "metadata": {},
   "outputs": [],
   "source": [
    "DIR_PATH = \"data\"\n",
    "\n",
    "FILE_NAMES = [\"Monday-WorkingHours.pcap_ISCX.csv\",\n",
    "              \"Tuesday-WorkingHours.pcap_ISCX.csv\",\n",
    "              \"Wednesday-workingHours.pcap_ISCX.csv\",\n",
    "              \"Thursday-WorkingHours-Morning-WebAttacks.pcap_ISCX.csv\",\n",
    "              \"Thursday-WorkingHours-Afternoon-Infilteration.pcap_ISCX.csv\",\n",
    "              \"Friday-WorkingHours-Morning.pcap_ISCX.csv\",\n",
    "              \"Friday-WorkingHours-Afternoon-PortScan-train.pcap_ISCX.csv\",\n",
    "              \"Friday-WorkingHours-Afternoon-DDos.pcap_ISCX.csv\"]"
   ]
  },
  {
   "cell_type": "code",
   "execution_count": 13,
   "metadata": {},
   "outputs": [
    {
     "data": {
      "text/plain": [
       "BENIGN                      2214224\n",
       "DoS Hulk                     231073\n",
       "PortScan                     135090\n",
       "DDoS                         128027\n",
       "DoS GoldenEye                 10293\n",
       "FTP-Patator                    7938\n",
       "SSH-Patator                    5897\n",
       "DoS slowloris                  5796\n",
       "DoS Slowhttptest               5499\n",
       "Bot                            1966\n",
       "Web Attack-Brute Force         1507\n",
       "Web Attack-XSS                  652\n",
       "Infiltration                     36\n",
       "Web Attack-Sql Injection         21\n",
       "Heartbleed                       11\n",
       "Name: Label, dtype: int64"
      ]
     },
     "execution_count": 13,
     "metadata": {},
     "output_type": "execute_result"
    }
   ],
   "source": [
    "# Compile all datasets\n",
    "df = [pd.read_csv(os.path.join(DIR_PATH, f), skipinitialspace=True) for f in FILE_NAMES]\n",
    "df = pd.concat(df, ignore_index=True)\n",
    "df.Label.value_counts()"
   ]
  },
  {
   "cell_type": "code",
   "execution_count": 14,
   "metadata": {},
   "outputs": [],
   "source": [
    "df.to_csv(os.path.join(DIR_PATH, \"MachineLearningCVE.csv\"), index=False)"
   ]
  }
 ],
 "metadata": {
  "kernelspec": {
   "display_name": "Python 3",
   "language": "python",
   "name": "python3"
  },
  "language_info": {
   "codemirror_mode": {
    "name": "ipython",
    "version": 3
   },
   "file_extension": ".py",
   "mimetype": "text/x-python",
   "name": "python",
   "nbconvert_exporter": "python",
   "pygments_lexer": "ipython3",
   "version": "3.10.11"
  },
  "orig_nbformat": 4,
  "vscode": {
   "interpreter": {
    "hash": "590fc05e1ed446e1fbcc628fa0008e96d4f6e22e106fbb51d01a946bc7e51d3b"
   }
  }
 },
 "nbformat": 4,
 "nbformat_minor": 2
}
