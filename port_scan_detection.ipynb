{
 "cells": [
  {
   "cell_type": "code",
   "execution_count": 398,
   "metadata": {},
   "outputs": [],
   "source": [
    "import pandas as pd\n",
    "import numpy as np\n",
    "import tensorflow as tf\n",
    "from sklearn.metrics import accuracy_score, recall_score, precision_score, f1_score, confusion_matrix\n",
    "import seaborn as sns\n",
    "from sklearn.model_selection import StratifiedKFold\n",
    "from tensorflow.keras import datasets, layers, models\n",
    "import matplotlib.pyplot as plt\n",
    "from sklearn.utils import shuffle\n",
    "from sklearn.model_selection import train_test_split"
   ]
  },
  {
   "cell_type": "code",
   "execution_count": 399,
   "metadata": {},
   "outputs": [],
   "source": [
    "df = pd.read_csv('datasets/CICIDS_2017_portscan.csv')"
   ]
  },
  {
   "cell_type": "code",
   "execution_count": 400,
   "metadata": {},
   "outputs": [
    {
     "data": {
      "text/plain": [
       "Index([' Destination Port', ' Flow Duration', ' Total Fwd Packets',\n",
       "       ' Total Backward Packets', 'Total Length of Fwd Packets',\n",
       "       ' Total Length of Bwd Packets', ' Fwd Packet Length Max',\n",
       "       ' Fwd Packet Length Min', ' Fwd Packet Length Mean',\n",
       "       ' Fwd Packet Length Std', 'Bwd Packet Length Max',\n",
       "       ' Bwd Packet Length Min', ' Bwd Packet Length Mean',\n",
       "       ' Bwd Packet Length Std', 'Flow Bytes/s', ' Flow Packets/s',\n",
       "       ' Flow IAT Mean', ' Flow IAT Std', ' Flow IAT Max', ' Flow IAT Min',\n",
       "       'Fwd IAT Total', ' Fwd IAT Mean', ' Fwd IAT Std', ' Fwd IAT Max',\n",
       "       ' Fwd IAT Min', 'Bwd IAT Total', ' Bwd IAT Mean', ' Bwd IAT Std',\n",
       "       ' Bwd IAT Max', ' Bwd IAT Min', 'Fwd PSH Flags', ' Bwd PSH Flags',\n",
       "       ' Fwd URG Flags', ' Bwd URG Flags', ' Fwd Header Length',\n",
       "       ' Bwd Header Length', 'Fwd Packets/s', ' Bwd Packets/s',\n",
       "       ' Min Packet Length', ' Max Packet Length', ' Packet Length Mean',\n",
       "       ' Packet Length Std', ' Packet Length Variance', 'FIN Flag Count',\n",
       "       ' SYN Flag Count', ' RST Flag Count', ' PSH Flag Count',\n",
       "       ' ACK Flag Count', ' URG Flag Count', ' CWE Flag Count',\n",
       "       ' ECE Flag Count', ' Down/Up Ratio', ' Average Packet Size',\n",
       "       ' Avg Fwd Segment Size', ' Avg Bwd Segment Size',\n",
       "       ' Fwd Header Length.1', 'Fwd Avg Bytes/Bulk', ' Fwd Avg Packets/Bulk',\n",
       "       ' Fwd Avg Bulk Rate', ' Bwd Avg Bytes/Bulk', ' Bwd Avg Packets/Bulk',\n",
       "       'Bwd Avg Bulk Rate', 'Subflow Fwd Packets', ' Subflow Fwd Bytes',\n",
       "       ' Subflow Bwd Packets', ' Subflow Bwd Bytes', 'Init_Win_bytes_forward',\n",
       "       ' Init_Win_bytes_backward', ' act_data_pkt_fwd',\n",
       "       ' min_seg_size_forward', 'Active Mean', ' Active Std', ' Active Max',\n",
       "       ' Active Min', 'Idle Mean', ' Idle Std', ' Idle Max', ' Idle Min',\n",
       "       ' Label'],\n",
       "      dtype='object')"
      ]
     },
     "execution_count": 400,
     "metadata": {},
     "output_type": "execute_result"
    }
   ],
   "source": [
    "df.columns"
   ]
  },
  {
   "cell_type": "code",
   "execution_count": 401,
   "metadata": {},
   "outputs": [],
   "source": [
    "def clean_columns(dataframe):\n",
    "    for column in dataframe:\n",
    "        dataframe.rename(columns = {column : column.lower().lstrip().replace(\" \", \"_\")}, inplace = 1)\n",
    "    return dataframe"
   ]
  },
  {
   "cell_type": "code",
   "execution_count": 402,
   "metadata": {},
   "outputs": [],
   "source": [
    "df = clean_columns(df)"
   ]
  },
  {
   "cell_type": "code",
   "execution_count": 403,
   "metadata": {},
   "outputs": [
    {
     "data": {
      "text/plain": [
       "Index(['destination_port', 'flow_duration', 'total_fwd_packets',\n",
       "       'total_backward_packets', 'total_length_of_fwd_packets',\n",
       "       'total_length_of_bwd_packets', 'fwd_packet_length_max',\n",
       "       'fwd_packet_length_min', 'fwd_packet_length_mean',\n",
       "       'fwd_packet_length_std', 'bwd_packet_length_max',\n",
       "       'bwd_packet_length_min', 'bwd_packet_length_mean',\n",
       "       'bwd_packet_length_std', 'flow_bytes/s', 'flow_packets/s',\n",
       "       'flow_iat_mean', 'flow_iat_std', 'flow_iat_max', 'flow_iat_min',\n",
       "       'fwd_iat_total', 'fwd_iat_mean', 'fwd_iat_std', 'fwd_iat_max',\n",
       "       'fwd_iat_min', 'bwd_iat_total', 'bwd_iat_mean', 'bwd_iat_std',\n",
       "       'bwd_iat_max', 'bwd_iat_min', 'fwd_psh_flags', 'bwd_psh_flags',\n",
       "       'fwd_urg_flags', 'bwd_urg_flags', 'fwd_header_length',\n",
       "       'bwd_header_length', 'fwd_packets/s', 'bwd_packets/s',\n",
       "       'min_packet_length', 'max_packet_length', 'packet_length_mean',\n",
       "       'packet_length_std', 'packet_length_variance', 'fin_flag_count',\n",
       "       'syn_flag_count', 'rst_flag_count', 'psh_flag_count', 'ack_flag_count',\n",
       "       'urg_flag_count', 'cwe_flag_count', 'ece_flag_count', 'down/up_ratio',\n",
       "       'average_packet_size', 'avg_fwd_segment_size', 'avg_bwd_segment_size',\n",
       "       'fwd_header_length.1', 'fwd_avg_bytes/bulk', 'fwd_avg_packets/bulk',\n",
       "       'fwd_avg_bulk_rate', 'bwd_avg_bytes/bulk', 'bwd_avg_packets/bulk',\n",
       "       'bwd_avg_bulk_rate', 'subflow_fwd_packets', 'subflow_fwd_bytes',\n",
       "       'subflow_bwd_packets', 'subflow_bwd_bytes', 'init_win_bytes_forward',\n",
       "       'init_win_bytes_backward', 'act_data_pkt_fwd', 'min_seg_size_forward',\n",
       "       'active_mean', 'active_std', 'active_max', 'active_min', 'idle_mean',\n",
       "       'idle_std', 'idle_max', 'idle_min', 'label'],\n",
       "      dtype='object')"
      ]
     },
     "execution_count": 403,
     "metadata": {},
     "output_type": "execute_result"
    }
   ],
   "source": [
    "df.columns"
   ]
  },
  {
   "cell_type": "code",
   "execution_count": 404,
   "metadata": {},
   "outputs": [
    {
     "data": {
      "text/plain": [
       "array(['BENIGN', 'PortScan'], dtype=object)"
      ]
     },
     "execution_count": 404,
     "metadata": {},
     "output_type": "execute_result"
    }
   ],
   "source": [
    "df['label'].unique()"
   ]
  },
  {
   "cell_type": "code",
   "execution_count": 405,
   "metadata": {},
   "outputs": [
    {
     "data": {
      "text/plain": [
       "<Axes: xlabel='label'>"
      ]
     },
     "execution_count": 405,
     "metadata": {},
     "output_type": "execute_result"
    },
    {
     "data": {
      "image/png": "[encoded data removed]",
      "text/plain": [
       "<Figure size 640x480 with 1 Axes>"
      ]
     },
     "metadata": {},
     "output_type": "display_data"
    }
   ],
   "source": [
    "df.groupby(['label'])['label'].count().plot(kind='bar')"
   ]
  },
  {
   "cell_type": "code",
   "execution_count": 406,
   "metadata": {},
   "outputs": [
    {
     "data": {
      "text/html": [
       "<div>\n",
       "<style scoped>\n",
       "    .dataframe tbody tr th:only-of-type {\n",
       "        vertical-align: middle;\n",
       "    }\n",
       "\n",
       "    .dataframe tbody tr th {\n",
       "        vertical-align: top;\n",
       "    }\n",
       "\n",
       "    .dataframe thead th {\n",
       "        text-align: right;\n",
       "    }\n",
       "</style>\n",
       "<table border=\"1\" class=\"dataframe\">\n",
       "  <thead>\n",
       "    <tr style=\"text-align: right;\">\n",
       "      <th></th>\n",
       "      <th>destination_port</th>\n",
       "      <th>flow_duration</th>\n",
       "      <th>total_fwd_packets</th>\n",
       "      <th>total_backward_packets</th>\n",
       "      <th>total_length_of_fwd_packets</th>\n",
       "      <th>total_length_of_bwd_packets</th>\n",
       "      <th>fwd_packet_length_max</th>\n",
       "      <th>fwd_packet_length_min</th>\n",
       "      <th>fwd_packet_length_mean</th>\n",
       "      <th>fwd_packet_length_std</th>\n",
       "      <th>...</th>\n",
       "      <th>act_data_pkt_fwd</th>\n",
       "      <th>min_seg_size_forward</th>\n",
       "      <th>active_mean</th>\n",
       "      <th>active_std</th>\n",
       "      <th>active_max</th>\n",
       "      <th>active_min</th>\n",
       "      <th>idle_mean</th>\n",
       "      <th>idle_std</th>\n",
       "      <th>idle_max</th>\n",
       "      <th>idle_min</th>\n",
       "    </tr>\n",
       "  </thead>\n",
       "  <tbody>\n",
       "    <tr>\n",
       "      <th>count</th>\n",
       "      <td>286467.000000</td>\n",
       "      <td>2.864670e+05</td>\n",
       "      <td>286467.000000</td>\n",
       "      <td>286467.000000</td>\n",
       "      <td>286467.000000</td>\n",
       "      <td>2.864670e+05</td>\n",
       "      <td>286467.000000</td>\n",
       "      <td>286467.000000</td>\n",
       "      <td>286467.000000</td>\n",
       "      <td>286467.000000</td>\n",
       "      <td>...</td>\n",
       "      <td>286467.000000</td>\n",
       "      <td>286467.000000</td>\n",
       "      <td>2.864670e+05</td>\n",
       "      <td>2.864670e+05</td>\n",
       "      <td>2.864670e+05</td>\n",
       "      <td>2.864670e+05</td>\n",
       "      <td>2.864670e+05</td>\n",
       "      <td>2.864670e+05</td>\n",
       "      <td>2.864670e+05</td>\n",
       "      <td>2.864670e+05</td>\n",
       "    </tr>\n",
       "    <tr>\n",
       "      <th>mean</th>\n",
       "      <td>8044.876324</td>\n",
       "      <td>5.379331e+06</td>\n",
       "      <td>3.473283</td>\n",
       "      <td>3.520500</td>\n",
       "      <td>233.407667</td>\n",
       "      <td>2.707247e+03</td>\n",
       "      <td>81.033369</td>\n",
       "      <td>10.352013</td>\n",
       "      <td>24.138688</td>\n",
       "      <td>24.590994</td>\n",
       "      <td>...</td>\n",
       "      <td>1.728618</td>\n",
       "      <td>29.075328</td>\n",
       "      <td>3.409213e+04</td>\n",
       "      <td>2.294987e+04</td>\n",
       "      <td>7.785722e+04</td>\n",
       "      <td>2.171380e+04</td>\n",
       "      <td>1.602973e+06</td>\n",
       "      <td>6.120390e+04</td>\n",
       "      <td>1.647188e+06</td>\n",
       "      <td>1.536286e+06</td>\n",
       "    </tr>\n",
       "    <tr>\n",
       "      <th>std</th>\n",
       "      <td>15378.583442</td>\n",
       "      <td>2.192364e+07</td>\n",
       "      <td>19.515131</td>\n",
       "      <td>28.288916</td>\n",
       "      <td>1865.523600</td>\n",
       "      <td>5.097783e+04</td>\n",
       "      <td>327.768035</td>\n",
       "      <td>24.237795</td>\n",
       "      <td>78.381542</td>\n",
       "      <td>117.218043</td>\n",
       "      <td>...</td>\n",
       "      <td>14.897361</td>\n",
       "      <td>8.014607</td>\n",
       "      <td>4.659319e+05</td>\n",
       "      <td>2.623049e+05</td>\n",
       "      <td>7.342606e+05</td>\n",
       "      <td>4.223145e+05</td>\n",
       "      <td>8.682334e+06</td>\n",
       "      <td>1.217016e+06</td>\n",
       "      <td>8.882728e+06</td>\n",
       "      <td>8.561545e+06</td>\n",
       "    </tr>\n",
       "    <tr>\n",
       "      <th>min</th>\n",
       "      <td>0.000000</td>\n",
       "      <td>-1.300000e+01</td>\n",
       "      <td>1.000000</td>\n",
       "      <td>0.000000</td>\n",
       "      <td>0.000000</td>\n",
       "      <td>0.000000e+00</td>\n",
       "      <td>0.000000</td>\n",
       "      <td>0.000000</td>\n",
       "      <td>0.000000</td>\n",
       "      <td>0.000000</td>\n",
       "      <td>...</td>\n",
       "      <td>0.000000</td>\n",
       "      <td>0.000000</td>\n",
       "      <td>0.000000e+00</td>\n",
       "      <td>0.000000e+00</td>\n",
       "      <td>0.000000e+00</td>\n",
       "      <td>0.000000e+00</td>\n",
       "      <td>0.000000e+00</td>\n",
       "      <td>0.000000e+00</td>\n",
       "      <td>0.000000e+00</td>\n",
       "      <td>0.000000e+00</td>\n",
       "    </tr>\n",
       "    <tr>\n",
       "      <th>25%</th>\n",
       "      <td>80.000000</td>\n",
       "      <td>4.400000e+01</td>\n",
       "      <td>1.000000</td>\n",
       "      <td>1.000000</td>\n",
       "      <td>0.000000</td>\n",
       "      <td>6.000000e+00</td>\n",
       "      <td>0.000000</td>\n",
       "      <td>0.000000</td>\n",
       "      <td>0.000000</td>\n",
       "      <td>0.000000</td>\n",
       "      <td>...</td>\n",
       "      <td>0.000000</td>\n",
       "      <td>20.000000</td>\n",
       "      <td>0.000000e+00</td>\n",
       "      <td>0.000000e+00</td>\n",
       "      <td>0.000000e+00</td>\n",
       "      <td>0.000000e+00</td>\n",
       "      <td>0.000000e+00</td>\n",
       "      <td>0.000000e+00</td>\n",
       "      <td>0.000000e+00</td>\n",
       "      <td>0.000000e+00</td>\n",
       "    </tr>\n",
       "    <tr>\n",
       "      <th>50%</th>\n",
       "      <td>1110.000000</td>\n",
       "      <td>6.500000e+01</td>\n",
       "      <td>1.000000</td>\n",
       "      <td>1.000000</td>\n",
       "      <td>2.000000</td>\n",
       "      <td>6.000000e+00</td>\n",
       "      <td>2.000000</td>\n",
       "      <td>2.000000</td>\n",
       "      <td>2.000000</td>\n",
       "      <td>0.000000</td>\n",
       "      <td>...</td>\n",
       "      <td>0.000000</td>\n",
       "      <td>24.000000</td>\n",
       "      <td>0.000000e+00</td>\n",
       "      <td>0.000000e+00</td>\n",
       "      <td>0.000000e+00</td>\n",
       "      <td>0.000000e+00</td>\n",
       "      <td>0.000000e+00</td>\n",
       "      <td>0.000000e+00</td>\n",
       "      <td>0.000000e+00</td>\n",
       "      <td>0.000000e+00</td>\n",
       "    </tr>\n",
       "    <tr>\n",
       "      <th>75%</th>\n",
       "      <td>6881.000000</td>\n",
       "      <td>2.380600e+04</td>\n",
       "      <td>2.000000</td>\n",
       "      <td>2.000000</td>\n",
       "      <td>62.000000</td>\n",
       "      <td>1.150000e+02</td>\n",
       "      <td>37.000000</td>\n",
       "      <td>6.000000</td>\n",
       "      <td>34.000000</td>\n",
       "      <td>0.000000</td>\n",
       "      <td>...</td>\n",
       "      <td>1.000000</td>\n",
       "      <td>40.000000</td>\n",
       "      <td>0.000000e+00</td>\n",
       "      <td>0.000000e+00</td>\n",
       "      <td>0.000000e+00</td>\n",
       "      <td>0.000000e+00</td>\n",
       "      <td>0.000000e+00</td>\n",
       "      <td>0.000000e+00</td>\n",
       "      <td>0.000000e+00</td>\n",
       "      <td>0.000000e+00</td>\n",
       "    </tr>\n",
       "    <tr>\n",
       "      <th>max</th>\n",
       "      <td>65389.000000</td>\n",
       "      <td>1.199999e+08</td>\n",
       "      <td>3119.000000</td>\n",
       "      <td>3635.000000</td>\n",
       "      <td>232349.000000</td>\n",
       "      <td>7.150819e+06</td>\n",
       "      <td>13929.000000</td>\n",
       "      <td>1472.000000</td>\n",
       "      <td>3412.938776</td>\n",
       "      <td>3541.466551</td>\n",
       "      <td>...</td>\n",
       "      <td>2056.000000</td>\n",
       "      <td>60.000000</td>\n",
       "      <td>1.100000e+08</td>\n",
       "      <td>7.050000e+07</td>\n",
       "      <td>1.100000e+08</td>\n",
       "      <td>1.100000e+08</td>\n",
       "      <td>1.200000e+08</td>\n",
       "      <td>7.050000e+07</td>\n",
       "      <td>1.200000e+08</td>\n",
       "      <td>1.200000e+08</td>\n",
       "    </tr>\n",
       "  </tbody>\n",
       "</table>\n",
       "<p>8 rows × 78 columns</p>\n",
       "</div>"
      ],
      "text/plain": [
       "       destination_port  flow_duration  total_fwd_packets   \n",
       "count     286467.000000   2.864670e+05      286467.000000  \\\n",
       "mean        8044.876324   5.379331e+06           3.473283   \n",
       "std        15378.583442   2.192364e+07          19.515131   \n",
       "min            0.000000  -1.300000e+01           1.000000   \n",
       "25%           80.000000   4.400000e+01           1.000000   \n",
       "50%         1110.000000   6.500000e+01           1.000000   \n",
       "75%         6881.000000   2.380600e+04           2.000000   \n",
       "max        65389.000000   1.199999e+08        3119.000000   \n",
       "\n",
       "       total_backward_packets  total_length_of_fwd_packets   \n",
       "count           286467.000000                286467.000000  \\\n",
       "mean                 3.520500                   233.407667   \n",
       "std                 28.288916                  1865.523600   \n",
       "min                  0.000000                     0.000000   \n",
       "25%                  1.000000                     0.000000   \n",
       "50%                  1.000000                     2.000000   \n",
       "75%                  2.000000                    62.000000   \n",
       "max               3635.000000                232349.000000   \n",
       "\n",
       "       total_length_of_bwd_packets  fwd_packet_length_max   \n",
       "count                 2.864670e+05          286467.000000  \\\n",
       "mean                  2.707247e+03              81.033369   \n",
       "std                   5.097783e+04             327.768035   \n",
       "min                   0.000000e+00               0.000000   \n",
       "25%                   6.000000e+00               0.000000   \n",
       "50%                   6.000000e+00               2.000000   \n",
       "75%                   1.150000e+02              37.000000   \n",
       "max                   7.150819e+06           13929.000000   \n",
       "\n",
       "       fwd_packet_length_min  fwd_packet_length_mean  fwd_packet_length_std   \n",
       "count          286467.000000           286467.000000          286467.000000  \\\n",
       "mean               10.352013               24.138688              24.590994   \n",
       "std                24.237795               78.381542             117.218043   \n",
       "min                 0.000000                0.000000               0.000000   \n",
       "25%                 0.000000                0.000000               0.000000   \n",
       "50%                 2.000000                2.000000               0.000000   \n",
       "75%                 6.000000               34.000000               0.000000   \n",
       "max              1472.000000             3412.938776            3541.466551   \n",
       "\n",
       "       ...  act_data_pkt_fwd  min_seg_size_forward   active_mean   \n",
       "count  ...     286467.000000         286467.000000  2.864670e+05  \\\n",
       "mean   ...          1.728618             29.075328  3.409213e+04   \n",
       "std    ...         14.897361              8.014607  4.659319e+05   \n",
       "min    ...          0.000000              0.000000  0.000000e+00   \n",
       "25%    ...          0.000000             20.000000  0.000000e+00   \n",
       "50%    ...          0.000000             24.000000  0.000000e+00   \n",
       "75%    ...          1.000000             40.000000  0.000000e+00   \n",
       "max    ...       2056.000000             60.000000  1.100000e+08   \n",
       "\n",
       "         active_std    active_max    active_min     idle_mean      idle_std   \n",
       "count  2.864670e+05  2.864670e+05  2.864670e+05  2.864670e+05  2.864670e+05  \\\n",
       "mean   2.294987e+04  7.785722e+04  2.171380e+04  1.602973e+06  6.120390e+04   \n",
       "std    2.623049e+05  7.342606e+05  4.223145e+05  8.682334e+06  1.217016e+06   \n",
       "min    0.000000e+00  0.000000e+00  0.000000e+00  0.000000e+00  0.000000e+00   \n",
       "25%    0.000000e+00  0.000000e+00  0.000000e+00  0.000000e+00  0.000000e+00   \n",
       "50%    0.000000e+00  0.000000e+00  0.000000e+00  0.000000e+00  0.000000e+00   \n",
       "75%    0.000000e+00  0.000000e+00  0.000000e+00  0.000000e+00  0.000000e+00   \n",
       "max    7.050000e+07  1.100000e+08  1.100000e+08  1.200000e+08  7.050000e+07   \n",
       "\n",
       "           idle_max      idle_min  \n",
       "count  2.864670e+05  2.864670e+05  \n",
       "mean   1.647188e+06  1.536286e+06  \n",
       "std    8.882728e+06  8.561545e+06  \n",
       "min    0.000000e+00  0.000000e+00  \n",
       "25%    0.000000e+00  0.000000e+00  \n",
       "50%    0.000000e+00  0.000000e+00  \n",
       "75%    0.000000e+00  0.000000e+00  \n",
       "max    1.200000e+08  1.200000e+08  \n",
       "\n",
       "[8 rows x 78 columns]"
      ]
     },
     "execution_count": 406,
     "metadata": {},
     "output_type": "execute_result"
    }
   ],
   "source": [
    "df.describe()"
   ]
  },
  {
   "cell_type": "code",
   "execution_count": 407,
   "metadata": {},
   "outputs": [
    {
     "name": "stdout",
     "output_type": "stream",
     "text": [
      "<class 'pandas.core.frame.DataFrame'>\n",
      "RangeIndex: 286467 entries, 0 to 286466\n",
      "Data columns (total 79 columns):\n",
      " #   Column                       Non-Null Count   Dtype  \n",
      "---  ------                       --------------   -----  \n",
      " 0   destination_port             286467 non-null  int64  \n",
      " 1   flow_duration                286467 non-null  int64  \n",
      " 2   total_fwd_packets            286467 non-null  int64  \n",
      " 3   total_backward_packets       286467 non-null  int64  \n",
      " 4   total_length_of_fwd_packets  286467 non-null  int64  \n",
      " 5   total_length_of_bwd_packets  286467 non-null  int64  \n",
      " 6   fwd_packet_length_max        286467 non-null  int64  \n",
      " 7   fwd_packet_length_min        286467 non-null  int64  \n",
      " 8   fwd_packet_length_mean       286467 non-null  float64\n",
      " 9   fwd_packet_length_std        286467 non-null  float64\n",
      " 10  bwd_packet_length_max        286467 non-null  int64  \n",
      " 11  bwd_packet_length_min        286467 non-null  int64  \n",
      " 12  bwd_packet_length_mean       286467 non-null  float64\n",
      " 13  bwd_packet_length_std        286467 non-null  float64\n",
      " 14  flow_bytes/s                 286452 non-null  float64\n",
      " 15  flow_packets/s               286467 non-null  float64\n",
      " 16  flow_iat_mean                286467 non-null  float64\n",
      " 17  flow_iat_std                 286467 non-null  float64\n",
      " 18  flow_iat_max                 286467 non-null  int64  \n",
      " 19  flow_iat_min                 286467 non-null  int64  \n",
      " 20  fwd_iat_total                286467 non-null  int64  \n",
      " 21  fwd_iat_mean                 286467 non-null  float64\n",
      " 22  fwd_iat_std                  286467 non-null  float64\n",
      " 23  fwd_iat_max                  286467 non-null  int64  \n",
      " 24  fwd_iat_min                  286467 non-null  int64  \n",
      " 25  bwd_iat_total                286467 non-null  int64  \n",
      " 26  bwd_iat_mean                 286467 non-null  float64\n",
      " 27  bwd_iat_std                  286467 non-null  float64\n",
      " 28  bwd_iat_max                  286467 non-null  int64  \n",
      " 29  bwd_iat_min                  286467 non-null  int64  \n",
      " 30  fwd_psh_flags                286467 non-null  int64  \n",
      " 31  bwd_psh_flags                286467 non-null  int64  \n",
      " 32  fwd_urg_flags                286467 non-null  int64  \n",
      " 33  bwd_urg_flags                286467 non-null  int64  \n",
      " 34  fwd_header_length            286467 non-null  int64  \n",
      " 35  bwd_header_length            286467 non-null  int64  \n",
      " 36  fwd_packets/s                286467 non-null  float64\n",
      " 37  bwd_packets/s                286467 non-null  float64\n",
      " 38  min_packet_length            286467 non-null  int64  \n",
      " 39  max_packet_length            286467 non-null  int64  \n",
      " 40  packet_length_mean           286467 non-null  float64\n",
      " 41  packet_length_std            286467 non-null  float64\n",
      " 42  packet_length_variance       286467 non-null  float64\n",
      " 43  fin_flag_count               286467 non-null  int64  \n",
      " 44  syn_flag_count               286467 non-null  int64  \n",
      " 45  rst_flag_count               286467 non-null  int64  \n",
      " 46  psh_flag_count               286467 non-null  int64  \n",
      " 47  ack_flag_count               286467 non-null  int64  \n",
      " 48  urg_flag_count               286467 non-null  int64  \n",
      " 49  cwe_flag_count               286467 non-null  int64  \n",
      " 50  ece_flag_count               286467 non-null  int64  \n",
      " 51  down/up_ratio                286467 non-null  int64  \n",
      " 52  average_packet_size          286467 non-null  float64\n",
      " 53  avg_fwd_segment_size         286467 non-null  float64\n",
      " 54  avg_bwd_segment_size         286467 non-null  float64\n",
      " 55  fwd_header_length.1          286467 non-null  int64  \n",
      " 56  fwd_avg_bytes/bulk           286467 non-null  int64  \n",
      " 57  fwd_avg_packets/bulk         286467 non-null  int64  \n",
      " 58  fwd_avg_bulk_rate            286467 non-null  int64  \n",
      " 59  bwd_avg_bytes/bulk           286467 non-null  int64  \n",
      " 60  bwd_avg_packets/bulk         286467 non-null  int64  \n",
      " 61  bwd_avg_bulk_rate            286467 non-null  int64  \n",
      " 62  subflow_fwd_packets          286467 non-null  int64  \n",
      " 63  subflow_fwd_bytes            286467 non-null  int64  \n",
      " 64  subflow_bwd_packets          286467 non-null  int64  \n",
      " 65  subflow_bwd_bytes            286467 non-null  int64  \n",
      " 66  init_win_bytes_forward       286467 non-null  int64  \n",
      " 67  init_win_bytes_backward      286467 non-null  int64  \n",
      " 68  act_data_pkt_fwd             286467 non-null  int64  \n",
      " 69  min_seg_size_forward         286467 non-null  int64  \n",
      " 70  active_mean                  286467 non-null  float64\n",
      " 71  active_std                   286467 non-null  float64\n",
      " 72  active_max                   286467 non-null  int64  \n",
      " 73  active_min                   286467 non-null  int64  \n",
      " 74  idle_mean                    286467 non-null  float64\n",
      " 75  idle_std                     286467 non-null  float64\n",
      " 76  idle_max                     286467 non-null  int64  \n",
      " 77  idle_min                     286467 non-null  int64  \n",
      " 78  label                        286467 non-null  object \n",
      "dtypes: float64(24), int64(54), object(1)\n",
      "memory usage: 172.7+ MB\n"
     ]
    }
   ],
   "source": [
    "df.info()"
   ]
  },
  {
   "cell_type": "code",
   "execution_count": 408,
   "metadata": {},
   "outputs": [],
   "source": [
    "df.drop_duplicates(inplace=True)"
   ]
  },
  {
   "cell_type": "code",
   "execution_count": 409,
   "metadata": {},
   "outputs": [
    {
     "name": "stdout",
     "output_type": "stream",
     "text": [
      "<class 'pandas.core.frame.DataFrame'>\n",
      "Index: 214114 entries, 0 to 286466\n",
      "Data columns (total 79 columns):\n",
      " #   Column                       Non-Null Count   Dtype  \n",
      "---  ------                       --------------   -----  \n",
      " 0   destination_port             214114 non-null  int64  \n",
      " 1   flow_duration                214114 non-null  int64  \n",
      " 2   total_fwd_packets            214114 non-null  int64  \n",
      " 3   total_backward_packets       214114 non-null  int64  \n",
      " 4   total_length_of_fwd_packets  214114 non-null  int64  \n",
      " 5   total_length_of_bwd_packets  214114 non-null  int64  \n",
      " 6   fwd_packet_length_max        214114 non-null  int64  \n",
      " 7   fwd_packet_length_min        214114 non-null  int64  \n",
      " 8   fwd_packet_length_mean       214114 non-null  float64\n",
      " 9   fwd_packet_length_std        214114 non-null  float64\n",
      " 10  bwd_packet_length_max        214114 non-null  int64  \n",
      " 11  bwd_packet_length_min        214114 non-null  int64  \n",
      " 12  bwd_packet_length_mean       214114 non-null  float64\n",
      " 13  bwd_packet_length_std        214114 non-null  float64\n",
      " 14  flow_bytes/s                 214099 non-null  float64\n",
      " 15  flow_packets/s               214114 non-null  float64\n",
      " 16  flow_iat_mean                214114 non-null  float64\n",
      " 17  flow_iat_std                 214114 non-null  float64\n",
      " 18  flow_iat_max                 214114 non-null  int64  \n",
      " 19  flow_iat_min                 214114 non-null  int64  \n",
      " 20  fwd_iat_total                214114 non-null  int64  \n",
      " 21  fwd_iat_mean                 214114 non-null  float64\n",
      " 22  fwd_iat_std                  214114 non-null  float64\n",
      " 23  fwd_iat_max                  214114 non-null  int64  \n",
      " 24  fwd_iat_min                  214114 non-null  int64  \n",
      " 25  bwd_iat_total                214114 non-null  int64  \n",
      " 26  bwd_iat_mean                 214114 non-null  float64\n",
      " 27  bwd_iat_std                  214114 non-null  float64\n",
      " 28  bwd_iat_max                  214114 non-null  int64  \n",
      " 29  bwd_iat_min                  214114 non-null  int64  \n",
      " 30  fwd_psh_flags                214114 non-null  int64  \n",
      " 31  bwd_psh_flags                214114 non-null  int64  \n",
      " 32  fwd_urg_flags                214114 non-null  int64  \n",
      " 33  bwd_urg_flags                214114 non-null  int64  \n",
      " 34  fwd_header_length            214114 non-null  int64  \n",
      " 35  bwd_header_length            214114 non-null  int64  \n",
      " 36  fwd_packets/s                214114 non-null  float64\n",
      " 37  bwd_packets/s                214114 non-null  float64\n",
      " 38  min_packet_length            214114 non-null  int64  \n",
      " 39  max_packet_length            214114 non-null  int64  \n",
      " 40  packet_length_mean           214114 non-null  float64\n",
      " 41  packet_length_std            214114 non-null  float64\n",
      " 42  packet_length_variance       214114 non-null  float64\n",
      " 43  fin_flag_count               214114 non-null  int64  \n",
      " 44  syn_flag_count               214114 non-null  int64  \n",
      " 45  rst_flag_count               214114 non-null  int64  \n",
      " 46  psh_flag_count               214114 non-null  int64  \n",
      " 47  ack_flag_count               214114 non-null  int64  \n",
      " 48  urg_flag_count               214114 non-null  int64  \n",
      " 49  cwe_flag_count               214114 non-null  int64  \n",
      " 50  ece_flag_count               214114 non-null  int64  \n",
      " 51  down/up_ratio                214114 non-null  int64  \n",
      " 52  average_packet_size          214114 non-null  float64\n",
      " 53  avg_fwd_segment_size         214114 non-null  float64\n",
      " 54  avg_bwd_segment_size         214114 non-null  float64\n",
      " 55  fwd_header_length.1          214114 non-null  int64  \n",
      " 56  fwd_avg_bytes/bulk           214114 non-null  int64  \n",
      " 57  fwd_avg_packets/bulk         214114 non-null  int64  \n",
      " 58  fwd_avg_bulk_rate            214114 non-null  int64  \n",
      " 59  bwd_avg_bytes/bulk           214114 non-null  int64  \n",
      " 60  bwd_avg_packets/bulk         214114 non-null  int64  \n",
      " 61  bwd_avg_bulk_rate            214114 non-null  int64  \n",
      " 62  subflow_fwd_packets          214114 non-null  int64  \n",
      " 63  subflow_fwd_bytes            214114 non-null  int64  \n",
      " 64  subflow_bwd_packets          214114 non-null  int64  \n",
      " 65  subflow_bwd_bytes            214114 non-null  int64  \n",
      " 66  init_win_bytes_forward       214114 non-null  int64  \n",
      " 67  init_win_bytes_backward      214114 non-null  int64  \n",
      " 68  act_data_pkt_fwd             214114 non-null  int64  \n",
      " 69  min_seg_size_forward         214114 non-null  int64  \n",
      " 70  active_mean                  214114 non-null  float64\n",
      " 71  active_std                   214114 non-null  float64\n",
      " 72  active_max                   214114 non-null  int64  \n",
      " 73  active_min                   214114 non-null  int64  \n",
      " 74  idle_mean                    214114 non-null  float64\n",
      " 75  idle_std                     214114 non-null  float64\n",
      " 76  idle_max                     214114 non-null  int64  \n",
      " 77  idle_min                     214114 non-null  int64  \n",
      " 78  label                        214114 non-null  object \n",
      "dtypes: float64(24), int64(54), object(1)\n",
      "memory usage: 130.7+ MB\n"
     ]
    }
   ],
   "source": [
    "df.info()"
   ]
  },
  {
   "cell_type": "code",
   "execution_count": 410,
   "metadata": {},
   "outputs": [
    {
     "data": {
      "text/plain": [
       "['flow_bytes/s']"
      ]
     },
     "execution_count": 410,
     "metadata": {},
     "output_type": "execute_result"
    }
   ],
   "source": [
    "df.columns[df.isna().any()].tolist()"
   ]
  },
  {
   "cell_type": "code",
   "execution_count": 411,
   "metadata": {},
   "outputs": [],
   "source": [
    "df = df.fillna(method='bfill')"
   ]
  },
  {
   "cell_type": "code",
   "execution_count": 412,
   "metadata": {},
   "outputs": [
    {
     "data": {
      "text/plain": [
       "array([0, 1])"
      ]
     },
     "execution_count": 412,
     "metadata": {},
     "output_type": "execute_result"
    }
   ],
   "source": [
    "df['label'] = df['label'].apply(lambda x: 0 if x=='BENIGN' else 1)\n",
    "df['label'].unique()"
   ]
  },
  {
   "cell_type": "code",
   "execution_count": 413,
   "metadata": {},
   "outputs": [
    {
     "data": {
      "text/plain": [
       "0    0\n",
       "1    0\n",
       "2    0\n",
       "3    0\n",
       "4    0\n",
       "Name: label, dtype: int64"
      ]
     },
     "execution_count": 413,
     "metadata": {},
     "output_type": "execute_result"
    }
   ],
   "source": [
    "df['label'].head()"
   ]
  },
  {
   "cell_type": "code",
   "execution_count": 414,
   "metadata": {},
   "outputs": [
    {
     "data": {
      "text/plain": [
       "label\n",
       "0    123295\n",
       "1     90819\n",
       "Name: label, dtype: int64"
      ]
     },
     "execution_count": 414,
     "metadata": {},
     "output_type": "execute_result"
    }
   ],
   "source": [
    "df.groupby(['label'])['label'].count()"
   ]
  },
  {
   "cell_type": "code",
   "execution_count": 415,
   "metadata": {},
   "outputs": [],
   "source": [
    "y = df['label']\n",
    "X = df.drop(columns=['label'])"
   ]
  },
  {
   "cell_type": "code",
   "execution_count": 416,
   "metadata": {},
   "outputs": [
    {
     "data": {
      "text/plain": [
       "array([0, 1])"
      ]
     },
     "execution_count": 416,
     "metadata": {},
     "output_type": "execute_result"
    }
   ],
   "source": [
    "y.unique()"
   ]
  },
  {
   "cell_type": "code",
   "execution_count": 417,
   "metadata": {},
   "outputs": [
    {
     "data": {
      "text/html": [
       "<div>\n",
       "<style scoped>\n",
       "    .dataframe tbody tr th:only-of-type {\n",
       "        vertical-align: middle;\n",
       "    }\n",
       "\n",
       "    .dataframe tbody tr th {\n",
       "        vertical-align: top;\n",
       "    }\n",
       "\n",
       "    .dataframe thead th {\n",
       "        text-align: right;\n",
       "    }\n",
       "</style>\n",
       "<table border=\"1\" class=\"dataframe\">\n",
       "  <thead>\n",
       "    <tr style=\"text-align: right;\">\n",
       "      <th></th>\n",
       "      <th>destination_port</th>\n",
       "      <th>flow_duration</th>\n",
       "      <th>total_fwd_packets</th>\n",
       "      <th>total_backward_packets</th>\n",
       "      <th>total_length_of_fwd_packets</th>\n",
       "      <th>total_length_of_bwd_packets</th>\n",
       "      <th>fwd_packet_length_max</th>\n",
       "      <th>fwd_packet_length_min</th>\n",
       "      <th>fwd_packet_length_mean</th>\n",
       "      <th>fwd_packet_length_std</th>\n",
       "      <th>...</th>\n",
       "      <th>act_data_pkt_fwd</th>\n",
       "      <th>min_seg_size_forward</th>\n",
       "      <th>active_mean</th>\n",
       "      <th>active_std</th>\n",
       "      <th>active_max</th>\n",
       "      <th>active_min</th>\n",
       "      <th>idle_mean</th>\n",
       "      <th>idle_std</th>\n",
       "      <th>idle_max</th>\n",
       "      <th>idle_min</th>\n",
       "    </tr>\n",
       "  </thead>\n",
       "  <tbody>\n",
       "    <tr>\n",
       "      <th>0</th>\n",
       "      <td>22</td>\n",
       "      <td>1266342</td>\n",
       "      <td>41</td>\n",
       "      <td>44</td>\n",
       "      <td>2664</td>\n",
       "      <td>6954</td>\n",
       "      <td>456</td>\n",
       "      <td>0</td>\n",
       "      <td>64.975610</td>\n",
       "      <td>109.864573</td>\n",
       "      <td>...</td>\n",
       "      <td>24</td>\n",
       "      <td>32</td>\n",
       "      <td>0.0</td>\n",
       "      <td>0.0</td>\n",
       "      <td>0</td>\n",
       "      <td>0</td>\n",
       "      <td>0.0</td>\n",
       "      <td>0.0</td>\n",
       "      <td>0</td>\n",
       "      <td>0</td>\n",
       "    </tr>\n",
       "    <tr>\n",
       "      <th>1</th>\n",
       "      <td>22</td>\n",
       "      <td>1319353</td>\n",
       "      <td>41</td>\n",
       "      <td>44</td>\n",
       "      <td>2664</td>\n",
       "      <td>6954</td>\n",
       "      <td>456</td>\n",
       "      <td>0</td>\n",
       "      <td>64.975610</td>\n",
       "      <td>109.864573</td>\n",
       "      <td>...</td>\n",
       "      <td>24</td>\n",
       "      <td>32</td>\n",
       "      <td>0.0</td>\n",
       "      <td>0.0</td>\n",
       "      <td>0</td>\n",
       "      <td>0</td>\n",
       "      <td>0.0</td>\n",
       "      <td>0.0</td>\n",
       "      <td>0</td>\n",
       "      <td>0</td>\n",
       "    </tr>\n",
       "    <tr>\n",
       "      <th>2</th>\n",
       "      <td>22</td>\n",
       "      <td>160</td>\n",
       "      <td>1</td>\n",
       "      <td>1</td>\n",
       "      <td>0</td>\n",
       "      <td>0</td>\n",
       "      <td>0</td>\n",
       "      <td>0</td>\n",
       "      <td>0.000000</td>\n",
       "      <td>0.000000</td>\n",
       "      <td>...</td>\n",
       "      <td>0</td>\n",
       "      <td>32</td>\n",
       "      <td>0.0</td>\n",
       "      <td>0.0</td>\n",
       "      <td>0</td>\n",
       "      <td>0</td>\n",
       "      <td>0.0</td>\n",
       "      <td>0.0</td>\n",
       "      <td>0</td>\n",
       "      <td>0</td>\n",
       "    </tr>\n",
       "    <tr>\n",
       "      <th>3</th>\n",
       "      <td>22</td>\n",
       "      <td>1303488</td>\n",
       "      <td>41</td>\n",
       "      <td>42</td>\n",
       "      <td>2728</td>\n",
       "      <td>6634</td>\n",
       "      <td>456</td>\n",
       "      <td>0</td>\n",
       "      <td>66.536585</td>\n",
       "      <td>110.129945</td>\n",
       "      <td>...</td>\n",
       "      <td>24</td>\n",
       "      <td>32</td>\n",
       "      <td>0.0</td>\n",
       "      <td>0.0</td>\n",
       "      <td>0</td>\n",
       "      <td>0</td>\n",
       "      <td>0.0</td>\n",
       "      <td>0.0</td>\n",
       "      <td>0</td>\n",
       "      <td>0</td>\n",
       "    </tr>\n",
       "    <tr>\n",
       "      <th>4</th>\n",
       "      <td>35396</td>\n",
       "      <td>77</td>\n",
       "      <td>1</td>\n",
       "      <td>2</td>\n",
       "      <td>0</td>\n",
       "      <td>0</td>\n",
       "      <td>0</td>\n",
       "      <td>0</td>\n",
       "      <td>0.000000</td>\n",
       "      <td>0.000000</td>\n",
       "      <td>...</td>\n",
       "      <td>0</td>\n",
       "      <td>32</td>\n",
       "      <td>0.0</td>\n",
       "      <td>0.0</td>\n",
       "      <td>0</td>\n",
       "      <td>0</td>\n",
       "      <td>0.0</td>\n",
       "      <td>0.0</td>\n",
       "      <td>0</td>\n",
       "      <td>0</td>\n",
       "    </tr>\n",
       "  </tbody>\n",
       "</table>\n",
       "<p>5 rows × 78 columns</p>\n",
       "</div>"
      ],
      "text/plain": [
       "   destination_port  flow_duration  total_fwd_packets  total_backward_packets   \n",
       "0                22        1266342                 41                      44  \\\n",
       "1                22        1319353                 41                      44   \n",
       "2                22            160                  1                       1   \n",
       "3                22        1303488                 41                      42   \n",
       "4             35396             77                  1                       2   \n",
       "\n",
       "   total_length_of_fwd_packets  total_length_of_bwd_packets   \n",
       "0                         2664                         6954  \\\n",
       "1                         2664                         6954   \n",
       "2                            0                            0   \n",
       "3                         2728                         6634   \n",
       "4                            0                            0   \n",
       "\n",
       "   fwd_packet_length_max  fwd_packet_length_min  fwd_packet_length_mean   \n",
       "0                    456                      0               64.975610  \\\n",
       "1                    456                      0               64.975610   \n",
       "2                      0                      0                0.000000   \n",
       "3                    456                      0               66.536585   \n",
       "4                      0                      0                0.000000   \n",
       "\n",
       "   fwd_packet_length_std  ...  act_data_pkt_fwd  min_seg_size_forward   \n",
       "0             109.864573  ...                24                    32  \\\n",
       "1             109.864573  ...                24                    32   \n",
       "2               0.000000  ...                 0                    32   \n",
       "3             110.129945  ...                24                    32   \n",
       "4               0.000000  ...                 0                    32   \n",
       "\n",
       "   active_mean  active_std  active_max  active_min  idle_mean  idle_std   \n",
       "0          0.0         0.0           0           0        0.0       0.0  \\\n",
       "1          0.0         0.0           0           0        0.0       0.0   \n",
       "2          0.0         0.0           0           0        0.0       0.0   \n",
       "3          0.0         0.0           0           0        0.0       0.0   \n",
       "4          0.0         0.0           0           0        0.0       0.0   \n",
       "\n",
       "   idle_max  idle_min  \n",
       "0         0         0  \n",
       "1         0         0  \n",
       "2         0         0  \n",
       "3         0         0  \n",
       "4         0         0  \n",
       "\n",
       "[5 rows x 78 columns]"
      ]
     },
     "execution_count": 417,
     "metadata": {},
     "output_type": "execute_result"
    }
   ],
   "source": [
    "X.head()"
   ]
  },
  {
   "cell_type": "code",
   "execution_count": 418,
   "metadata": {},
   "outputs": [
    {
     "data": {
      "text/html": [
       "<div>\n",
       "<style scoped>\n",
       "    .dataframe tbody tr th:only-of-type {\n",
       "        vertical-align: middle;\n",
       "    }\n",
       "\n",
       "    .dataframe tbody tr th {\n",
       "        vertical-align: top;\n",
       "    }\n",
       "\n",
       "    .dataframe thead th {\n",
       "        text-align: right;\n",
       "    }\n",
       "</style>\n",
       "<table border=\"1\" class=\"dataframe\">\n",
       "  <thead>\n",
       "    <tr style=\"text-align: right;\">\n",
       "      <th></th>\n",
       "      <th>destination_port</th>\n",
       "      <th>flow_duration</th>\n",
       "      <th>total_fwd_packets</th>\n",
       "      <th>total_backward_packets</th>\n",
       "      <th>total_length_of_fwd_packets</th>\n",
       "      <th>total_length_of_bwd_packets</th>\n",
       "      <th>fwd_packet_length_max</th>\n",
       "      <th>fwd_packet_length_min</th>\n",
       "      <th>fwd_packet_length_mean</th>\n",
       "      <th>fwd_packet_length_std</th>\n",
       "      <th>...</th>\n",
       "      <th>act_data_pkt_fwd</th>\n",
       "      <th>min_seg_size_forward</th>\n",
       "      <th>active_mean</th>\n",
       "      <th>active_std</th>\n",
       "      <th>active_max</th>\n",
       "      <th>active_min</th>\n",
       "      <th>idle_mean</th>\n",
       "      <th>idle_std</th>\n",
       "      <th>idle_max</th>\n",
       "      <th>idle_min</th>\n",
       "    </tr>\n",
       "  </thead>\n",
       "  <tbody>\n",
       "  </tbody>\n",
       "</table>\n",
       "<p>0 rows × 78 columns</p>\n",
       "</div>"
      ],
      "text/plain": [
       "Empty DataFrame\n",
       "Columns: [destination_port, flow_duration, total_fwd_packets, total_backward_packets, total_length_of_fwd_packets, total_length_of_bwd_packets, fwd_packet_length_max, fwd_packet_length_min, fwd_packet_length_mean, fwd_packet_length_std, bwd_packet_length_max, bwd_packet_length_min, bwd_packet_length_mean, bwd_packet_length_std, flow_bytes/s, flow_packets/s, flow_iat_mean, flow_iat_std, flow_iat_max, flow_iat_min, fwd_iat_total, fwd_iat_mean, fwd_iat_std, fwd_iat_max, fwd_iat_min, bwd_iat_total, bwd_iat_mean, bwd_iat_std, bwd_iat_max, bwd_iat_min, fwd_psh_flags, bwd_psh_flags, fwd_urg_flags, bwd_urg_flags, fwd_header_length, bwd_header_length, fwd_packets/s, bwd_packets/s, min_packet_length, max_packet_length, packet_length_mean, packet_length_std, packet_length_variance, fin_flag_count, syn_flag_count, rst_flag_count, psh_flag_count, ack_flag_count, urg_flag_count, cwe_flag_count, ece_flag_count, down/up_ratio, average_packet_size, avg_fwd_segment_size, avg_bwd_segment_size, fwd_header_length.1, fwd_avg_bytes/bulk, fwd_avg_packets/bulk, fwd_avg_bulk_rate, bwd_avg_bytes/bulk, bwd_avg_packets/bulk, bwd_avg_bulk_rate, subflow_fwd_packets, subflow_fwd_bytes, subflow_bwd_packets, subflow_bwd_bytes, init_win_bytes_forward, init_win_bytes_backward, act_data_pkt_fwd, min_seg_size_forward, active_mean, active_std, active_max, active_min, idle_mean, idle_std, idle_max, idle_min]\n",
       "Index: []\n",
       "\n",
       "[0 rows x 78 columns]"
      ]
     },
     "execution_count": 418,
     "metadata": {},
     "output_type": "execute_result"
    }
   ],
   "source": [
    "X[np.isinf(X).all(1)]"
   ]
  },
  {
   "cell_type": "code",
   "execution_count": 419,
   "metadata": {},
   "outputs": [
    {
     "data": {
      "text/plain": [
       "['total_backward_packets',\n",
       " 'total_length_of_bwd_packets',\n",
       " 'fwd_packet_length_std',\n",
       " 'bwd_packet_length_mean',\n",
       " 'bwd_packet_length_std',\n",
       " 'flow_iat_std',\n",
       " 'flow_iat_max',\n",
       " 'fwd_iat_total',\n",
       " 'fwd_iat_mean',\n",
       " 'fwd_iat_max',\n",
       " 'fwd_iat_min',\n",
       " 'bwd_iat_total',\n",
       " 'bwd_iat_mean',\n",
       " 'bwd_iat_max',\n",
       " 'bwd_iat_min',\n",
       " 'fwd_header_length',\n",
       " 'bwd_header_length',\n",
       " 'fwd_packets/s',\n",
       " 'max_packet_length',\n",
       " 'packet_length_mean',\n",
       " 'packet_length_std',\n",
       " 'packet_length_variance',\n",
       " 'syn_flag_count',\n",
       " 'ece_flag_count',\n",
       " 'average_packet_size',\n",
       " 'avg_fwd_segment_size',\n",
       " 'avg_bwd_segment_size',\n",
       " 'fwd_header_length.1',\n",
       " 'subflow_fwd_packets',\n",
       " 'subflow_fwd_bytes',\n",
       " 'subflow_bwd_packets',\n",
       " 'subflow_bwd_bytes',\n",
       " 'active_min',\n",
       " 'idle_mean',\n",
       " 'idle_max',\n",
       " 'idle_min']"
      ]
     },
     "execution_count": 419,
     "metadata": {},
     "output_type": "execute_result"
    }
   ],
   "source": [
    "# Create correlation matrix\n",
    "corr_matrix = X.corr().abs()\n",
    "\n",
    "# Select upper triangle of correlation matrix\n",
    "upper = corr_matrix.where(np.triu(np.ones(corr_matrix.shape), k=1).astype(bool))\n",
    "\n",
    "# Find features with correlation greater than 0.9\n",
    "to_drop = [column for column in upper.columns if any(upper[column] > 0.9)]\n",
    "to_drop"
   ]
  },
  {
   "cell_type": "code",
   "execution_count": 420,
   "metadata": {},
   "outputs": [],
   "source": [
    "X.drop(to_drop, axis=1, inplace=True)"
   ]
  },
  {
   "cell_type": "code",
   "execution_count": 421,
   "metadata": {},
   "outputs": [
    {
     "data": {
      "text/html": [
       "<div>\n",
       "<style scoped>\n",
       "    .dataframe tbody tr th:only-of-type {\n",
       "        vertical-align: middle;\n",
       "    }\n",
       "\n",
       "    .dataframe tbody tr th {\n",
       "        vertical-align: top;\n",
       "    }\n",
       "\n",
       "    .dataframe thead th {\n",
       "        text-align: right;\n",
       "    }\n",
       "</style>\n",
       "<table border=\"1\" class=\"dataframe\">\n",
       "  <thead>\n",
       "    <tr style=\"text-align: right;\">\n",
       "      <th></th>\n",
       "      <th>destination_port</th>\n",
       "      <th>flow_duration</th>\n",
       "      <th>total_fwd_packets</th>\n",
       "      <th>total_length_of_fwd_packets</th>\n",
       "      <th>fwd_packet_length_max</th>\n",
       "      <th>fwd_packet_length_min</th>\n",
       "      <th>fwd_packet_length_mean</th>\n",
       "      <th>bwd_packet_length_max</th>\n",
       "      <th>bwd_packet_length_min</th>\n",
       "      <th>flow_bytes/s</th>\n",
       "      <th>...</th>\n",
       "      <th>bwd_avg_packets/bulk</th>\n",
       "      <th>bwd_avg_bulk_rate</th>\n",
       "      <th>init_win_bytes_forward</th>\n",
       "      <th>init_win_bytes_backward</th>\n",
       "      <th>act_data_pkt_fwd</th>\n",
       "      <th>min_seg_size_forward</th>\n",
       "      <th>active_mean</th>\n",
       "      <th>active_std</th>\n",
       "      <th>active_max</th>\n",
       "      <th>idle_std</th>\n",
       "    </tr>\n",
       "  </thead>\n",
       "  <tbody>\n",
       "    <tr>\n",
       "      <th>0</th>\n",
       "      <td>22</td>\n",
       "      <td>1266342</td>\n",
       "      <td>41</td>\n",
       "      <td>2664</td>\n",
       "      <td>456</td>\n",
       "      <td>0</td>\n",
       "      <td>64.975610</td>\n",
       "      <td>976</td>\n",
       "      <td>0</td>\n",
       "      <td>7595.104640</td>\n",
       "      <td>...</td>\n",
       "      <td>0</td>\n",
       "      <td>0</td>\n",
       "      <td>29200</td>\n",
       "      <td>243</td>\n",
       "      <td>24</td>\n",
       "      <td>32</td>\n",
       "      <td>0.0</td>\n",
       "      <td>0.0</td>\n",
       "      <td>0</td>\n",
       "      <td>0.0</td>\n",
       "    </tr>\n",
       "    <tr>\n",
       "      <th>1</th>\n",
       "      <td>22</td>\n",
       "      <td>1319353</td>\n",
       "      <td>41</td>\n",
       "      <td>2664</td>\n",
       "      <td>456</td>\n",
       "      <td>0</td>\n",
       "      <td>64.975610</td>\n",
       "      <td>976</td>\n",
       "      <td>0</td>\n",
       "      <td>7289.936810</td>\n",
       "      <td>...</td>\n",
       "      <td>0</td>\n",
       "      <td>0</td>\n",
       "      <td>29200</td>\n",
       "      <td>243</td>\n",
       "      <td>24</td>\n",
       "      <td>32</td>\n",
       "      <td>0.0</td>\n",
       "      <td>0.0</td>\n",
       "      <td>0</td>\n",
       "      <td>0.0</td>\n",
       "    </tr>\n",
       "    <tr>\n",
       "      <th>2</th>\n",
       "      <td>22</td>\n",
       "      <td>160</td>\n",
       "      <td>1</td>\n",
       "      <td>0</td>\n",
       "      <td>0</td>\n",
       "      <td>0</td>\n",
       "      <td>0.000000</td>\n",
       "      <td>0</td>\n",
       "      <td>0</td>\n",
       "      <td>0.000000</td>\n",
       "      <td>...</td>\n",
       "      <td>0</td>\n",
       "      <td>0</td>\n",
       "      <td>290</td>\n",
       "      <td>243</td>\n",
       "      <td>0</td>\n",
       "      <td>32</td>\n",
       "      <td>0.0</td>\n",
       "      <td>0.0</td>\n",
       "      <td>0</td>\n",
       "      <td>0.0</td>\n",
       "    </tr>\n",
       "    <tr>\n",
       "      <th>3</th>\n",
       "      <td>22</td>\n",
       "      <td>1303488</td>\n",
       "      <td>41</td>\n",
       "      <td>2728</td>\n",
       "      <td>456</td>\n",
       "      <td>0</td>\n",
       "      <td>66.536585</td>\n",
       "      <td>976</td>\n",
       "      <td>0</td>\n",
       "      <td>7182.267884</td>\n",
       "      <td>...</td>\n",
       "      <td>0</td>\n",
       "      <td>0</td>\n",
       "      <td>29200</td>\n",
       "      <td>243</td>\n",
       "      <td>24</td>\n",
       "      <td>32</td>\n",
       "      <td>0.0</td>\n",
       "      <td>0.0</td>\n",
       "      <td>0</td>\n",
       "      <td>0.0</td>\n",
       "    </tr>\n",
       "    <tr>\n",
       "      <th>4</th>\n",
       "      <td>35396</td>\n",
       "      <td>77</td>\n",
       "      <td>1</td>\n",
       "      <td>0</td>\n",
       "      <td>0</td>\n",
       "      <td>0</td>\n",
       "      <td>0.000000</td>\n",
       "      <td>0</td>\n",
       "      <td>0</td>\n",
       "      <td>0.000000</td>\n",
       "      <td>...</td>\n",
       "      <td>0</td>\n",
       "      <td>0</td>\n",
       "      <td>243</td>\n",
       "      <td>290</td>\n",
       "      <td>0</td>\n",
       "      <td>32</td>\n",
       "      <td>0.0</td>\n",
       "      <td>0.0</td>\n",
       "      <td>0</td>\n",
       "      <td>0.0</td>\n",
       "    </tr>\n",
       "  </tbody>\n",
       "</table>\n",
       "<p>5 rows × 42 columns</p>\n",
       "</div>"
      ],
      "text/plain": [
       "   destination_port  flow_duration  total_fwd_packets   \n",
       "0                22        1266342                 41  \\\n",
       "1                22        1319353                 41   \n",
       "2                22            160                  1   \n",
       "3                22        1303488                 41   \n",
       "4             35396             77                  1   \n",
       "\n",
       "   total_length_of_fwd_packets  fwd_packet_length_max  fwd_packet_length_min   \n",
       "0                         2664                    456                      0  \\\n",
       "1                         2664                    456                      0   \n",
       "2                            0                      0                      0   \n",
       "3                         2728                    456                      0   \n",
       "4                            0                      0                      0   \n",
       "\n",
       "   fwd_packet_length_mean  bwd_packet_length_max  bwd_packet_length_min   \n",
       "0               64.975610                    976                      0  \\\n",
       "1               64.975610                    976                      0   \n",
       "2                0.000000                      0                      0   \n",
       "3               66.536585                    976                      0   \n",
       "4                0.000000                      0                      0   \n",
       "\n",
       "   flow_bytes/s  ...  bwd_avg_packets/bulk  bwd_avg_bulk_rate   \n",
       "0   7595.104640  ...                     0                  0  \\\n",
       "1   7289.936810  ...                     0                  0   \n",
       "2      0.000000  ...                     0                  0   \n",
       "3   7182.267884  ...                     0                  0   \n",
       "4      0.000000  ...                     0                  0   \n",
       "\n",
       "   init_win_bytes_forward  init_win_bytes_backward  act_data_pkt_fwd   \n",
       "0                   29200                      243                24  \\\n",
       "1                   29200                      243                24   \n",
       "2                     290                      243                 0   \n",
       "3                   29200                      243                24   \n",
       "4                     243                      290                 0   \n",
       "\n",
       "   min_seg_size_forward  active_mean  active_std  active_max  idle_std  \n",
       "0                    32          0.0         0.0           0       0.0  \n",
       "1                    32          0.0         0.0           0       0.0  \n",
       "2                    32          0.0         0.0           0       0.0  \n",
       "3                    32          0.0         0.0           0       0.0  \n",
       "4                    32          0.0         0.0           0       0.0  \n",
       "\n",
       "[5 rows x 42 columns]"
      ]
     },
     "execution_count": 421,
     "metadata": {},
     "output_type": "execute_result"
    }
   ],
   "source": [
    "X.head()"
   ]
  },
  {
   "cell_type": "code",
   "execution_count": 422,
   "metadata": {},
   "outputs": [
    {
     "data": {
      "text/plain": [
       "[]"
      ]
     },
     "execution_count": 422,
     "metadata": {},
     "output_type": "execute_result"
    }
   ],
   "source": [
    "X.columns[X.isna().any()].tolist()"
   ]
  },
  {
   "cell_type": "code",
   "execution_count": 423,
   "metadata": {},
   "outputs": [],
   "source": [
    "shuffle_df = shuffle(df)\n",
    "df= shuffle_df.reset_index()"
   ]
  },
  {
   "cell_type": "code",
   "execution_count": 424,
   "metadata": {},
   "outputs": [],
   "source": [
    "# slice_df = pd.DataFrame(X,y)\n",
    "# slice_df = shuffle(slice_df).reset_index()[:50000]\n",
    "# slice_df\n",
    "\n",
    "# # slice_df.groupby(['label'])['label'].count()\n",
    "# # y = slice_df['label']\n",
    "# # X = slice_df.drop(columns=['label'])"
   ]
  },
  {
   "cell_type": "code",
   "execution_count": 425,
   "metadata": {},
   "outputs": [],
   "source": [
    "# X_tensor = tf.convert_to_tensor(X)\n",
    "# y_tensor = tf.convert_to_tensor(y)"
   ]
  },
  {
   "cell_type": "code",
   "execution_count": 426,
   "metadata": {},
   "outputs": [],
   "source": [
    "# N_VALIDATION = int(1e3)\n",
    "# N_TRAIN = int(1e4)\n",
    "# BUFFER_SIZE = int(1e4)\n",
    "\n",
    "# STEPS_PER_EPOCH = N_TRAIN//BATCH_SIZE\n"
   ]
  },
  {
   "cell_type": "code",
   "execution_count": 427,
   "metadata": {},
   "outputs": [],
   "source": [
    "EPOCHS = 50\n",
    "BATCH_SIZE = 10"
   ]
  },
  {
   "cell_type": "code",
   "execution_count": 428,
   "metadata": {},
   "outputs": [],
   "source": [
    "# STEPS_PER_EPOCH"
   ]
  },
  {
   "cell_type": "code",
   "execution_count": 429,
   "metadata": {},
   "outputs": [],
   "source": [
    "# lr_schedule = tf.keras.optimizers.schedules.InverseTimeDecay(\n",
    "# 0.001,\n",
    "# decay_steps=STEPS_PER_EPOCH*1000,\n",
    "# decay_rate=1,\n",
    "# staircase=False)"
   ]
  },
  {
   "cell_type": "code",
   "execution_count": 430,
   "metadata": {},
   "outputs": [],
   "source": [
    "# def get_callbacks():\n",
    "#   return [\n",
    "#     tf.keras.callbacks.EarlyStopping(monitor='val_accuracy', patience=10, mode='max')\n",
    "#   ]"
   ]
  },
  {
   "cell_type": "code",
   "execution_count": 431,
   "metadata": {},
   "outputs": [],
   "source": [
    "from keras.layers import Dropout"
   ]
  },
  {
   "cell_type": "code",
   "execution_count": 502,
   "metadata": {},
   "outputs": [],
   "source": [
    "def create_cnngru_model(input_dim):\n",
    "    model = models.Sequential()\n",
    "    model.add(layers.Conv1D(32, (1), activation='relu', input_shape=(input_dim, 1)))\n",
    "    model.add(layers.MaxPooling1D((1)))\n",
    "    model.add(layers.Conv1D(32, (1), activation='relu'))\n",
    "    model.add(layers.MaxPooling1D((1)))\n",
    "    model.add(layers.Conv1D(32, (1), activation='relu'))\n",
    "    model.add(layers.GRU(64, activation='relu', return_sequences=True))\n",
    "    model.add(layers.GRU(64, activation='relu'))\n",
    "    model.add(layers.Dense(1, activation = 'sigmoid'))\n",
    "    model.compile(optimizer=tf.keras.optimizers.Adam(learning_rate = 1e-4, clipvalue=0.5),\n",
    "                  loss='binary_crossentropy',\n",
    "                  metrics=[tf.keras.metrics.Accuracy()])\n",
    "\n",
    "    return model\n"
   ]
  },
  {
   "cell_type": "code",
   "execution_count": 503,
   "metadata": {},
   "outputs": [
    {
     "data": {
      "text/plain": [
       "[PhysicalDevice(name='/physical_device:CPU:0', device_type='CPU')]"
      ]
     },
     "execution_count": 503,
     "metadata": {},
     "output_type": "execute_result"
    }
   ],
   "source": [
    "tf.config.list_physical_devices('CPU')"
   ]
  },
  {
   "cell_type": "code",
   "execution_count": 504,
   "metadata": {},
   "outputs": [
    {
     "data": {
      "text/plain": [
       "[]"
      ]
     },
     "execution_count": 504,
     "metadata": {},
     "output_type": "execute_result"
    }
   ],
   "source": [
    "tf.config.list_physical_devices('GPU')"
   ]
  },
  {
   "cell_type": "code",
   "execution_count": 505,
   "metadata": {},
   "outputs": [],
   "source": [
    "def metrics(y_true, y_pred):\n",
    "    acc = accuracy_score(y_true, y_pred)\n",
    "    prec = precision_score(y_true, y_pred)\n",
    "    recall = recall_score(y_true, y_pred)\n",
    "    f1score = f1_score(y_true, y_pred)\n",
    "\n",
    "    print(\"METRICS \\n\")\n",
    "    print(f\"Accuracy: {acc} precision: {prec} recall: {recall} f1-score: {f1score} \\n\")\n",
    "\n",
    "    cm = confusion_matrix(y_true, y_pred)\n",
    "    sns.heatmap(cm, annot=True, fmt=\"\")\n",
    "    plt.title(\"Confusion matrix\")\n",
    "    plt.xlabel(\"Predicted label\")\n",
    "    plt.ylabel(\"True label\")\n",
    "    plt.show()"
   ]
  },
  {
   "cell_type": "code",
   "execution_count": 506,
   "metadata": {},
   "outputs": [],
   "source": [
    "def linear_plot_metrics(results, title,metric, y_label, x_label):\n",
    "        plt.plot(results[metric])\n",
    "        plt.title(title)\n",
    "        plt.ylabel(y_label)\n",
    "        plt.xlabel(x_label)\n",
    "        plt.show()"
   ]
  },
  {
   "cell_type": "code",
   "execution_count": 507,
   "metadata": {},
   "outputs": [],
   "source": [
    "# TODO\n",
    "\n",
    "def KFold_eval(X_arr, Y_arr, dim_in, epochs, batch_size):\n",
    "    skf = StratifiedKFold(n_splits=5, random_state=42, shuffle=True)\n",
    "    for fold, (train_idx, test_idx) in enumerate(skf.split(X_arr, Y_arr)):\n",
    "\n",
    "        X_train, X_test = X_arr[train_idx], X_arr[test_idx]\n",
    "        y_train, y_test = Y_arr[train_idx], Y_arr[test_idx]\n",
    "        \n",
    "        print(f\"Fold {fold + 1}\") \n",
    "        \n",
    "\n",
    "        model = create_cnngru_model(dim_in)\n",
    "        history = model.fit(X_train, y_train, epochs = epochs, batch_size=batch_size, validation_split=0.2)\n",
    "\n",
    "        results = history.history\n",
    "        print(results)\n",
    " \n",
    "        linear_plot_metrics(results, title='training accuracy', metric='accuracy', y_label='accuracy', x_label='epoch')\n",
    "        linear_plot_metrics(results, title='training loss', metric='loss', y_label='loss', x_label='epoch')\n",
    "        linear_plot_metrics(results, title='val loss', metric='val_loss', y_label='loss', x_label='epoch')\n",
    "        linear_plot_metrics(results, title='val accuracy', metric='val_accuracy', y_label='accuracy', x_label='epoch')\n",
    "\n",
    "        y_pred = model.predict(X_test).argmax(1)\n",
    "\n",
    "        metrics(y_test, y_pred)"
   ]
  },
  {
   "cell_type": "code",
   "execution_count": 508,
   "metadata": {},
   "outputs": [],
   "source": [
    "def train(X_train, y_train, model, epochs, batch_size):\n",
    "    history = model.fit(X_train, y_train, epochs = epochs,batch_size=batch_size, validation_split=0.2)\n",
    "\n",
    "    results = history.history\n",
    "    print(results)\n",
    "\n",
    "    linear_plot_metrics(results, title='training accuracy', metric='accuracy', y_label='accuracy', x_label='epoch')\n",
    "    linear_plot_metrics(results, title='training loss', metric='loss', y_label='loss', x_label='epoch')\n",
    "    linear_plot_metrics(results, title='val loss', metric='val_loss', y_label='loss', x_label='epoch')\n",
    "    linear_plot_metrics(results, title='val accuracy', metric='val_accuracy', y_label='accuracy', x_label='epoch')"
   ]
  },
  {
   "cell_type": "code",
   "execution_count": 509,
   "metadata": {},
   "outputs": [],
   "source": [
    "def evaluate(model, X_test, y_test):\n",
    "    y_pred = model.predict(X_test).argmax(1)\n",
    "    metrics(y_test, y_pred)"
   ]
  },
  {
   "cell_type": "code",
   "execution_count": 510,
   "metadata": {},
   "outputs": [
    {
     "name": "stdout",
     "output_type": "stream",
     "text": [
      "Model: \"sequential_45\"\n",
      "_________________________________________________________________\n",
      " Layer (type)                Output Shape              Param #   \n",
      "=================================================================\n",
      " conv1d_135 (Conv1D)         (None, 42, 32)            64        \n",
      "                                                                 \n",
      " max_pooling1d_90 (MaxPoolin  (None, 42, 32)           0         \n",
      " g1D)                                                            \n",
      "                                                                 \n",
      " conv1d_136 (Conv1D)         (None, 42, 32)            1056      \n",
      "                                                                 \n",
      " max_pooling1d_91 (MaxPoolin  (None, 42, 32)           0         \n",
      " g1D)                                                            \n",
      "                                                                 \n",
      " conv1d_137 (Conv1D)         (None, 42, 32)            1056      \n",
      "                                                                 \n",
      " gru_90 (GRU)                (None, 42, 64)            18816     \n",
      "                                                                 \n",
      " gru_91 (GRU)                (None, 64)                24960     \n",
      "                                                                 \n",
      " dense_45 (Dense)            (None, 1)                 65        \n",
      "                                                                 \n",
      "=================================================================\n",
      "Total params: 46,017\n",
      "Trainable params: 46,017\n",
      "Non-trainable params: 0\n",
      "_________________________________________________________________\n"
     ]
    }
   ],
   "source": [
    "model = create_cnngru_model(input_dim=42)\n",
    "model.summary()"
   ]
  },
  {
   "cell_type": "code",
   "execution_count": 511,
   "metadata": {},
   "outputs": [
    {
     "data": {
      "text/plain": [
       "42"
      ]
     },
     "execution_count": 511,
     "metadata": {},
     "output_type": "execute_result"
    }
   ],
   "source": [
    "X.values.shape[1]"
   ]
  },
  {
   "cell_type": "code",
   "execution_count": 512,
   "metadata": {},
   "outputs": [
    {
     "data": {
      "text/plain": [
       "array([0, 1])"
      ]
     },
     "execution_count": 512,
     "metadata": {},
     "output_type": "execute_result"
    }
   ],
   "source": [
    "y.unique()"
   ]
  },
  {
   "cell_type": "code",
   "execution_count": 513,
   "metadata": {},
   "outputs": [
    {
     "data": {
      "text/plain": [
       "(214114, 42)"
      ]
     },
     "execution_count": 513,
     "metadata": {},
     "output_type": "execute_result"
    }
   ],
   "source": [
    "X.shape"
   ]
  },
  {
   "cell_type": "code",
   "execution_count": 514,
   "metadata": {},
   "outputs": [
    {
     "data": {
      "text/plain": [
       "(214114,)"
      ]
     },
     "execution_count": 514,
     "metadata": {},
     "output_type": "execute_result"
    }
   ],
   "source": [
    "y.shape"
   ]
  },
  {
   "cell_type": "code",
   "execution_count": 515,
   "metadata": {},
   "outputs": [],
   "source": [
    "X_array = X.values\n",
    "y_array = y.values"
   ]
  },
  {
   "cell_type": "code",
   "execution_count": 516,
   "metadata": {},
   "outputs": [],
   "source": [
    "\n",
    "import tensorflow as tf\n",
    "from tensorflow.keras.layers import Normalization\n",
    " \n",
    "normalization_layer = Normalization()"
   ]
  },
  {
   "cell_type": "code",
   "execution_count": 517,
   "metadata": {},
   "outputs": [],
   "source": [
    "X_tensor = tf.convert_to_tensor(X)\n",
    "y_tensor = tf.convert_to_tensor(y)"
   ]
  },
  {
   "cell_type": "code",
   "execution_count": 518,
   "metadata": {},
   "outputs": [],
   "source": [
    "X_train, X_test, y_train, y_test = train_test_split(X_array, y_array, test_size=0.4, random_state=42)"
   ]
  },
  {
   "cell_type": "code",
   "execution_count": 519,
   "metadata": {},
   "outputs": [],
   "source": [
    "combined_batch = tf.constant(X_train)\n",
    "\n",
    "normalization_layer = Normalization()\n",
    "\n",
    "normalization_layer.adapt(combined_batch)"
   ]
  },
  {
   "cell_type": "code",
   "execution_count": 520,
   "metadata": {},
   "outputs": [
    {
     "data": {
      "text/plain": [
       "<tf.Tensor: shape=(128468, 42), dtype=float32, numpy=\n",
       "array([[ 7.5851381e-01, -2.8820348e-01, -1.3431917e-01, ...,\n",
       "        -1.1439998e-01, -1.2637624e-01, -5.9549946e-02],\n",
       "       [-4.1962731e-01, -2.8820330e-01, -1.3431917e-01, ...,\n",
       "        -1.1439998e-01, -1.2637624e-01, -5.9549946e-02],\n",
       "       [ 1.0574049e+00, -2.8820416e-01, -1.3431917e-01, ...,\n",
       "        -1.1439998e-01, -1.2637624e-01, -5.9549946e-02],\n",
       "       ...,\n",
       "       [ 7.3489748e-02, -2.8820255e-01, -1.3431917e-01, ...,\n",
       "        -1.1439998e-01, -1.2637624e-01, -5.9549946e-02],\n",
       "       [-5.2795291e-04, -2.8820434e-01, -1.3431917e-01, ...,\n",
       "        -1.1439998e-01, -1.2637624e-01, -5.9549946e-02],\n",
       "       [-4.2833897e-01, -2.8820401e-01, -1.3431917e-01, ...,\n",
       "        -1.1439998e-01, -1.2637624e-01, -5.9549946e-02]], dtype=float32)>"
      ]
     },
     "execution_count": 520,
     "metadata": {},
     "output_type": "execute_result"
    }
   ],
   "source": [
    "X_train = normalization_layer(X_train)\n",
    "X_train"
   ]
  },
  {
   "cell_type": "code",
   "execution_count": 521,
   "metadata": {},
   "outputs": [
    {
     "data": {
      "text/plain": [
       "<tf.Tensor: shape=(85646, 42), dtype=float32, numpy=\n",
       "array([[-0.49138877, -0.28820452, -0.13431917, ..., -0.11439998,\n",
       "        -0.12637624, -0.05954995],\n",
       "       [-0.3714312 , -0.2882039 , -0.13431917, ..., -0.11439998,\n",
       "        -0.12637624, -0.05954995],\n",
       "       [-0.49358234, -0.2861839 , -0.13431917, ..., -0.11439998,\n",
       "        -0.12637624, -0.05954995],\n",
       "       ...,\n",
       "       [-0.49358234, -0.28819525, -0.0944678 , ..., -0.11439998,\n",
       "        -0.12637624, -0.05954995],\n",
       "       [-0.36309558, -0.2882047 , -0.13431917, ..., -0.11439998,\n",
       "        -0.12637624, -0.05954995],\n",
       "       [-0.08939933, -0.28820282, -0.13431917, ..., -0.11439998,\n",
       "        -0.12637624, -0.05954995]], dtype=float32)>"
      ]
     },
     "execution_count": 521,
     "metadata": {},
     "output_type": "execute_result"
    }
   ],
   "source": [
    "X_test = normalization_layer(X_test)\n",
    "X_test"
   ]
  },
  {
   "cell_type": "code",
   "execution_count": 522,
   "metadata": {},
   "outputs": [],
   "source": [
    "model = create_cnngru_model(X_array.shape[1])"
   ]
  },
  {
   "cell_type": "code",
   "execution_count": 523,
   "metadata": {},
   "outputs": [],
   "source": [
    "X_test = X_test.numpy()\n",
    "X_train = X_train.numpy()"
   ]
  },
  {
   "cell_type": "code",
   "execution_count": 524,
   "metadata": {},
   "outputs": [
    {
     "data": {
      "text/plain": [
       "array([[-0.49138877, -0.28820452, -0.13431917, ..., -0.11439998,\n",
       "        -0.12637624, -0.05954995],\n",
       "       [-0.3714312 , -0.2882039 , -0.13431917, ..., -0.11439998,\n",
       "        -0.12637624, -0.05954995],\n",
       "       [-0.49358234, -0.2861839 , -0.13431917, ..., -0.11439998,\n",
       "        -0.12637624, -0.05954995],\n",
       "       ...,\n",
       "       [-0.49358234, -0.28819525, -0.0944678 , ..., -0.11439998,\n",
       "        -0.12637624, -0.05954995],\n",
       "       [-0.36309558, -0.2882047 , -0.13431917, ..., -0.11439998,\n",
       "        -0.12637624, -0.05954995],\n",
       "       [-0.08939933, -0.28820282, -0.13431917, ..., -0.11439998,\n",
       "        -0.12637624, -0.05954995]], dtype=float32)"
      ]
     },
     "execution_count": 524,
     "metadata": {},
     "output_type": "execute_result"
    }
   ],
   "source": [
    "X_test"
   ]
  },
  {
   "cell_type": "code",
   "execution_count": 525,
   "metadata": {},
   "outputs": [
    {
     "name": "stdout",
     "output_type": "stream",
     "text": [
      "Fold 1\n",
      "Epoch 1/20\n",
      " 322/1645 [====>.........................] - ETA: 19s - loss: nan - accuracy: 0.0000e+00"
     ]
    },
    {
     "ename": "KeyboardInterrupt",
     "evalue": "",
     "output_type": "error",
     "traceback": [
      "\u001b[0;31m---------------------------------------------------------------------------\u001b[0m",
      "\u001b[0;31mKeyboardInterrupt\u001b[0m                         Traceback (most recent call last)",
      "Cell \u001b[0;32mIn[525], line 1\u001b[0m\n\u001b[0;32m----> 1\u001b[0m KFold_eval(X_train, y_train, X_array\u001b[39m.\u001b[39;49mshape[\u001b[39m1\u001b[39;49m], \u001b[39m20\u001b[39;49m, \u001b[39m50\u001b[39;49m)\n",
      "Cell \u001b[0;32mIn[507], line 14\u001b[0m, in \u001b[0;36mKFold_eval\u001b[0;34m(X_arr, Y_arr, dim_in, epochs, batch_size)\u001b[0m\n\u001b[1;32m     10\u001b[0m \u001b[39mprint\u001b[39m(\u001b[39mf\u001b[39m\u001b[39m\"\u001b[39m\u001b[39mFold \u001b[39m\u001b[39m{\u001b[39;00mfold\u001b[39m \u001b[39m\u001b[39m+\u001b[39m\u001b[39m \u001b[39m\u001b[39m1\u001b[39m\u001b[39m}\u001b[39;00m\u001b[39m\"\u001b[39m) \n\u001b[1;32m     13\u001b[0m model \u001b[39m=\u001b[39m create_cnngru_model(dim_in)\n\u001b[0;32m---> 14\u001b[0m history \u001b[39m=\u001b[39m model\u001b[39m.\u001b[39;49mfit(X_train, y_train, epochs \u001b[39m=\u001b[39;49m epochs, batch_size\u001b[39m=\u001b[39;49mbatch_size, validation_split\u001b[39m=\u001b[39;49m\u001b[39m0.2\u001b[39;49m)\n\u001b[1;32m     16\u001b[0m results \u001b[39m=\u001b[39m history\u001b[39m.\u001b[39mhistory\n\u001b[1;32m     17\u001b[0m \u001b[39mprint\u001b[39m(results)\n",
      "File \u001b[0;32m~/Nextcloud/repos/Port-scan-detection-using-NN-SPZC/lib/python3.10/site-packages/keras/utils/traceback_utils.py:65\u001b[0m, in \u001b[0;36mfilter_traceback.<locals>.error_handler\u001b[0;34m(*args, **kwargs)\u001b[0m\n\u001b[1;32m     63\u001b[0m filtered_tb \u001b[39m=\u001b[39m \u001b[39mNone\u001b[39;00m\n\u001b[1;32m     64\u001b[0m \u001b[39mtry\u001b[39;00m:\n\u001b[0;32m---> 65\u001b[0m     \u001b[39mreturn\u001b[39;00m fn(\u001b[39m*\u001b[39;49margs, \u001b[39m*\u001b[39;49m\u001b[39m*\u001b[39;49mkwargs)\n\u001b[1;32m     66\u001b[0m \u001b[39mexcept\u001b[39;00m \u001b[39mException\u001b[39;00m \u001b[39mas\u001b[39;00m e:\n\u001b[1;32m     67\u001b[0m     filtered_tb \u001b[39m=\u001b[39m _process_traceback_frames(e\u001b[39m.\u001b[39m__traceback__)\n",
      "File \u001b[0;32m~/Nextcloud/repos/Port-scan-detection-using-NN-SPZC/lib/python3.10/site-packages/keras/engine/training.py:1685\u001b[0m, in \u001b[0;36mModel.fit\u001b[0;34m(self, x, y, batch_size, epochs, verbose, callbacks, validation_split, validation_data, shuffle, class_weight, sample_weight, initial_epoch, steps_per_epoch, validation_steps, validation_batch_size, validation_freq, max_queue_size, workers, use_multiprocessing)\u001b[0m\n\u001b[1;32m   1677\u001b[0m \u001b[39mwith\u001b[39;00m tf\u001b[39m.\u001b[39mprofiler\u001b[39m.\u001b[39mexperimental\u001b[39m.\u001b[39mTrace(\n\u001b[1;32m   1678\u001b[0m     \u001b[39m\"\u001b[39m\u001b[39mtrain\u001b[39m\u001b[39m\"\u001b[39m,\n\u001b[1;32m   1679\u001b[0m     epoch_num\u001b[39m=\u001b[39mepoch,\n\u001b[0;32m   (...)\u001b[0m\n\u001b[1;32m   1682\u001b[0m     _r\u001b[39m=\u001b[39m\u001b[39m1\u001b[39m,\n\u001b[1;32m   1683\u001b[0m ):\n\u001b[1;32m   1684\u001b[0m     callbacks\u001b[39m.\u001b[39mon_train_batch_begin(step)\n\u001b[0;32m-> 1685\u001b[0m     tmp_logs \u001b[39m=\u001b[39m \u001b[39mself\u001b[39;49m\u001b[39m.\u001b[39;49mtrain_function(iterator)\n\u001b[1;32m   1686\u001b[0m     \u001b[39mif\u001b[39;00m data_handler\u001b[39m.\u001b[39mshould_sync:\n\u001b[1;32m   1687\u001b[0m         context\u001b[39m.\u001b[39masync_wait()\n",
      "File \u001b[0;32m~/Nextcloud/repos/Port-scan-detection-using-NN-SPZC/lib/python3.10/site-packages/tensorflow/python/util/traceback_utils.py:150\u001b[0m, in \u001b[0;36mfilter_traceback.<locals>.error_handler\u001b[0;34m(*args, **kwargs)\u001b[0m\n\u001b[1;32m    148\u001b[0m filtered_tb \u001b[39m=\u001b[39m \u001b[39mNone\u001b[39;00m\n\u001b[1;32m    149\u001b[0m \u001b[39mtry\u001b[39;00m:\n\u001b[0;32m--> 150\u001b[0m   \u001b[39mreturn\u001b[39;00m fn(\u001b[39m*\u001b[39;49margs, \u001b[39m*\u001b[39;49m\u001b[39m*\u001b[39;49mkwargs)\n\u001b[1;32m    151\u001b[0m \u001b[39mexcept\u001b[39;00m \u001b[39mException\u001b[39;00m \u001b[39mas\u001b[39;00m e:\n\u001b[1;32m    152\u001b[0m   filtered_tb \u001b[39m=\u001b[39m _process_traceback_frames(e\u001b[39m.\u001b[39m__traceback__)\n",
      "File \u001b[0;32m~/Nextcloud/repos/Port-scan-detection-using-NN-SPZC/lib/python3.10/site-packages/tensorflow/python/eager/polymorphic_function/polymorphic_function.py:894\u001b[0m, in \u001b[0;36mFunction.__call__\u001b[0;34m(self, *args, **kwds)\u001b[0m\n\u001b[1;32m    891\u001b[0m compiler \u001b[39m=\u001b[39m \u001b[39m\"\u001b[39m\u001b[39mxla\u001b[39m\u001b[39m\"\u001b[39m \u001b[39mif\u001b[39;00m \u001b[39mself\u001b[39m\u001b[39m.\u001b[39m_jit_compile \u001b[39melse\u001b[39;00m \u001b[39m\"\u001b[39m\u001b[39mnonXla\u001b[39m\u001b[39m\"\u001b[39m\n\u001b[1;32m    893\u001b[0m \u001b[39mwith\u001b[39;00m OptionalXlaContext(\u001b[39mself\u001b[39m\u001b[39m.\u001b[39m_jit_compile):\n\u001b[0;32m--> 894\u001b[0m   result \u001b[39m=\u001b[39m \u001b[39mself\u001b[39;49m\u001b[39m.\u001b[39;49m_call(\u001b[39m*\u001b[39;49margs, \u001b[39m*\u001b[39;49m\u001b[39m*\u001b[39;49mkwds)\n\u001b[1;32m    896\u001b[0m new_tracing_count \u001b[39m=\u001b[39m \u001b[39mself\u001b[39m\u001b[39m.\u001b[39mexperimental_get_tracing_count()\n\u001b[1;32m    897\u001b[0m without_tracing \u001b[39m=\u001b[39m (tracing_count \u001b[39m==\u001b[39m new_tracing_count)\n",
      "File \u001b[0;32m~/Nextcloud/repos/Port-scan-detection-using-NN-SPZC/lib/python3.10/site-packages/tensorflow/python/eager/polymorphic_function/polymorphic_function.py:926\u001b[0m, in \u001b[0;36mFunction._call\u001b[0;34m(self, *args, **kwds)\u001b[0m\n\u001b[1;32m    923\u001b[0m   \u001b[39mself\u001b[39m\u001b[39m.\u001b[39m_lock\u001b[39m.\u001b[39mrelease()\n\u001b[1;32m    924\u001b[0m   \u001b[39m# In this case we have created variables on the first call, so we run the\u001b[39;00m\n\u001b[1;32m    925\u001b[0m   \u001b[39m# defunned version which is guaranteed to never create variables.\u001b[39;00m\n\u001b[0;32m--> 926\u001b[0m   \u001b[39mreturn\u001b[39;00m \u001b[39mself\u001b[39;49m\u001b[39m.\u001b[39;49m_no_variable_creation_fn(\u001b[39m*\u001b[39;49margs, \u001b[39m*\u001b[39;49m\u001b[39m*\u001b[39;49mkwds)  \u001b[39m# pylint: disable=not-callable\u001b[39;00m\n\u001b[1;32m    927\u001b[0m \u001b[39melif\u001b[39;00m \u001b[39mself\u001b[39m\u001b[39m.\u001b[39m_variable_creation_fn \u001b[39mis\u001b[39;00m \u001b[39mnot\u001b[39;00m \u001b[39mNone\u001b[39;00m:\n\u001b[1;32m    928\u001b[0m   \u001b[39m# Release the lock early so that multiple threads can perform the call\u001b[39;00m\n\u001b[1;32m    929\u001b[0m   \u001b[39m# in parallel.\u001b[39;00m\n\u001b[1;32m    930\u001b[0m   \u001b[39mself\u001b[39m\u001b[39m.\u001b[39m_lock\u001b[39m.\u001b[39mrelease()\n",
      "File \u001b[0;32m~/Nextcloud/repos/Port-scan-detection-using-NN-SPZC/lib/python3.10/site-packages/tensorflow/python/eager/polymorphic_function/tracing_compiler.py:143\u001b[0m, in \u001b[0;36mTracingCompiler.__call__\u001b[0;34m(self, *args, **kwargs)\u001b[0m\n\u001b[1;32m    140\u001b[0m \u001b[39mwith\u001b[39;00m \u001b[39mself\u001b[39m\u001b[39m.\u001b[39m_lock:\n\u001b[1;32m    141\u001b[0m   (concrete_function,\n\u001b[1;32m    142\u001b[0m    filtered_flat_args) \u001b[39m=\u001b[39m \u001b[39mself\u001b[39m\u001b[39m.\u001b[39m_maybe_define_function(args, kwargs)\n\u001b[0;32m--> 143\u001b[0m \u001b[39mreturn\u001b[39;00m concrete_function\u001b[39m.\u001b[39;49m_call_flat(\n\u001b[1;32m    144\u001b[0m     filtered_flat_args, captured_inputs\u001b[39m=\u001b[39;49mconcrete_function\u001b[39m.\u001b[39;49mcaptured_inputs)\n",
      "File \u001b[0;32m~/Nextcloud/repos/Port-scan-detection-using-NN-SPZC/lib/python3.10/site-packages/tensorflow/python/eager/polymorphic_function/monomorphic_function.py:1757\u001b[0m, in \u001b[0;36mConcreteFunction._call_flat\u001b[0;34m(self, args, captured_inputs, cancellation_manager)\u001b[0m\n\u001b[1;32m   1753\u001b[0m possible_gradient_type \u001b[39m=\u001b[39m gradients_util\u001b[39m.\u001b[39mPossibleTapeGradientTypes(args)\n\u001b[1;32m   1754\u001b[0m \u001b[39mif\u001b[39;00m (possible_gradient_type \u001b[39m==\u001b[39m gradients_util\u001b[39m.\u001b[39mPOSSIBLE_GRADIENT_TYPES_NONE\n\u001b[1;32m   1755\u001b[0m     \u001b[39mand\u001b[39;00m executing_eagerly):\n\u001b[1;32m   1756\u001b[0m   \u001b[39m# No tape is watching; skip to running the function.\u001b[39;00m\n\u001b[0;32m-> 1757\u001b[0m   \u001b[39mreturn\u001b[39;00m \u001b[39mself\u001b[39m\u001b[39m.\u001b[39m_build_call_outputs(\u001b[39mself\u001b[39;49m\u001b[39m.\u001b[39;49m_inference_function\u001b[39m.\u001b[39;49mcall(\n\u001b[1;32m   1758\u001b[0m       ctx, args, cancellation_manager\u001b[39m=\u001b[39;49mcancellation_manager))\n\u001b[1;32m   1759\u001b[0m forward_backward \u001b[39m=\u001b[39m \u001b[39mself\u001b[39m\u001b[39m.\u001b[39m_select_forward_and_backward_functions(\n\u001b[1;32m   1760\u001b[0m     args,\n\u001b[1;32m   1761\u001b[0m     possible_gradient_type,\n\u001b[1;32m   1762\u001b[0m     executing_eagerly)\n\u001b[1;32m   1763\u001b[0m forward_function, args_with_tangents \u001b[39m=\u001b[39m forward_backward\u001b[39m.\u001b[39mforward()\n",
      "File \u001b[0;32m~/Nextcloud/repos/Port-scan-detection-using-NN-SPZC/lib/python3.10/site-packages/tensorflow/python/eager/polymorphic_function/monomorphic_function.py:381\u001b[0m, in \u001b[0;36m_EagerDefinedFunction.call\u001b[0;34m(self, ctx, args, cancellation_manager)\u001b[0m\n\u001b[1;32m    379\u001b[0m \u001b[39mwith\u001b[39;00m _InterpolateFunctionError(\u001b[39mself\u001b[39m):\n\u001b[1;32m    380\u001b[0m   \u001b[39mif\u001b[39;00m cancellation_manager \u001b[39mis\u001b[39;00m \u001b[39mNone\u001b[39;00m:\n\u001b[0;32m--> 381\u001b[0m     outputs \u001b[39m=\u001b[39m execute\u001b[39m.\u001b[39;49mexecute(\n\u001b[1;32m    382\u001b[0m         \u001b[39mstr\u001b[39;49m(\u001b[39mself\u001b[39;49m\u001b[39m.\u001b[39;49msignature\u001b[39m.\u001b[39;49mname),\n\u001b[1;32m    383\u001b[0m         num_outputs\u001b[39m=\u001b[39;49m\u001b[39mself\u001b[39;49m\u001b[39m.\u001b[39;49m_num_outputs,\n\u001b[1;32m    384\u001b[0m         inputs\u001b[39m=\u001b[39;49margs,\n\u001b[1;32m    385\u001b[0m         attrs\u001b[39m=\u001b[39;49mattrs,\n\u001b[1;32m    386\u001b[0m         ctx\u001b[39m=\u001b[39;49mctx)\n\u001b[1;32m    387\u001b[0m   \u001b[39melse\u001b[39;00m:\n\u001b[1;32m    388\u001b[0m     outputs \u001b[39m=\u001b[39m execute\u001b[39m.\u001b[39mexecute_with_cancellation(\n\u001b[1;32m    389\u001b[0m         \u001b[39mstr\u001b[39m(\u001b[39mself\u001b[39m\u001b[39m.\u001b[39msignature\u001b[39m.\u001b[39mname),\n\u001b[1;32m    390\u001b[0m         num_outputs\u001b[39m=\u001b[39m\u001b[39mself\u001b[39m\u001b[39m.\u001b[39m_num_outputs,\n\u001b[0;32m   (...)\u001b[0m\n\u001b[1;32m    393\u001b[0m         ctx\u001b[39m=\u001b[39mctx,\n\u001b[1;32m    394\u001b[0m         cancellation_manager\u001b[39m=\u001b[39mcancellation_manager)\n",
      "File \u001b[0;32m~/Nextcloud/repos/Port-scan-detection-using-NN-SPZC/lib/python3.10/site-packages/tensorflow/python/eager/execute.py:52\u001b[0m, in \u001b[0;36mquick_execute\u001b[0;34m(op_name, num_outputs, inputs, attrs, ctx, name)\u001b[0m\n\u001b[1;32m     50\u001b[0m \u001b[39mtry\u001b[39;00m:\n\u001b[1;32m     51\u001b[0m   ctx\u001b[39m.\u001b[39mensure_initialized()\n\u001b[0;32m---> 52\u001b[0m   tensors \u001b[39m=\u001b[39m pywrap_tfe\u001b[39m.\u001b[39;49mTFE_Py_Execute(ctx\u001b[39m.\u001b[39;49m_handle, device_name, op_name,\n\u001b[1;32m     53\u001b[0m                                       inputs, attrs, num_outputs)\n\u001b[1;32m     54\u001b[0m \u001b[39mexcept\u001b[39;00m core\u001b[39m.\u001b[39m_NotOkStatusException \u001b[39mas\u001b[39;00m e:\n\u001b[1;32m     55\u001b[0m   \u001b[39mif\u001b[39;00m name \u001b[39mis\u001b[39;00m \u001b[39mnot\u001b[39;00m \u001b[39mNone\u001b[39;00m:\n",
      "\u001b[0;31mKeyboardInterrupt\u001b[0m: "
     ]
    }
   ],
   "source": [
    "KFold_eval(X_train, y_train, X_array.shape[1], 20, 50)"
   ]
  },
  {
   "cell_type": "code",
   "execution_count": null,
   "metadata": {},
   "outputs": [],
   "source": [
    "# KFold_eval(X_array, y_array, dim_in=X_array.shape[1], epochs=EPOCHS, batch_size=BATCH_SIZE)"
   ]
  },
  {
   "cell_type": "code",
   "execution_count": null,
   "metadata": {},
   "outputs": [],
   "source": [
    "# model.compile(optimizer='adam',\n",
    "#               loss=tf.keras.losses.SparseCategoricalCrossentropy(from_logits=True),\n",
    "#               metrics=['accuracy'])\n",
    "\n",
    "# history = model.fit(X_tensor, y_tensor, epochs=5, batch_size=1)"
   ]
  }
 ],
 "metadata": {
  "kernelspec": {
   "display_name": "Python 3",
   "language": "python",
   "name": "python3"
  },
  "language_info": {
   "codemirror_mode": {
    "name": "ipython",
    "version": 3
   },
   "file_extension": ".py",
   "mimetype": "text/x-python",
   "name": "python",
   "nbconvert_exporter": "python",
   "pygments_lexer": "ipython3",
   "version": "3.10.6"
  },
  "orig_nbformat": 4,
  "vscode": {
   "interpreter": {
    "hash": "590fc05e1ed446e1fbcc628fa0008e96d4f6e22e106fbb51d01a946bc7e51d3b"
   }
  }
 },
 "nbformat": 4,
 "nbformat_minor": 2
}
