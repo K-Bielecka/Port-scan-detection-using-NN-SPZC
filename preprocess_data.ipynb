{
 "cells": [
  {
   "cell_type": "code",
   "execution_count": 42,
   "metadata": {},
   "outputs": [],
   "source": [
    "import os\n",
    "import logging\n",
    "\n",
    "import pandas as pd\n",
    "import numpy as np\n",
    "\n",
    "from sklearn.preprocessing import LabelEncoder\n",
    "from sklearn.model_selection import train_test_split\n",
    "\n",
    "# Log setting\n",
    "logging.basicConfig(format=\"%(asctime)s %(levelname)s %(message)s\", datefmt=\"%H:%M:%S\", level=logging.INFO)\n",
    "\n",
    "# Change display.max_rows to show all features.\n",
    "pd.set_option(\"display.max_rows\", 85)"
   ]
  },
  {
   "cell_type": "code",
   "execution_count": 51,
   "metadata": {},
   "outputs": [],
   "source": [
    "DIR_PATH = \"datasets\"\n",
    "FILE_PATH = os.path.join(DIR_PATH, \"MachineLearningCVE.csv\")\n",
    "VALIDATION_SET_FILE_PATH = os.path.join(DIR_PATH, \"Friday-WorkingHours-Afternoon-PortScan-validation.pcap_ISCX.csv\")"
   ]
  },
  {
   "cell_type": "code",
   "execution_count": 55,
   "metadata": {},
   "outputs": [],
   "source": [
    "def _label_encoding() -> LabelEncoder:\n",
    "    # Create Label Encoder\n",
    "    le = LabelEncoder()\n",
    "\n",
    "    # Read Label column from all dataset files\n",
    "    labels = pd.read_csv(FILE_PATH, usecols=['Label'], skipinitialspace=True)\n",
    "\n",
    "    # Fit the labels data to Label Encoder\n",
    "    le.fit(labels.Label)\n",
    "\n",
    "    # Saving the label encoder\n",
    "    np.save(os.path.join(DIR_PATH, 'label_encoder.npy'), le.classes_)\n",
    "\n",
    "    # Log the result.\n",
    "    logging.info(\"Total rows: {}\".format(labels.shape))\n",
    "    logging.info(\"Class distribution:\\n{}\\n\".format(labels.Label.value_counts()))\n",
    "\n",
    "    return le\n",
    "\n",
    "\n",
    "def _process(df: pd.DataFrame, le: LabelEncoder):\n",
    "    # Label encoding\n",
    "    df.Label = le.transform(df.Label)\n",
    "\n",
    "    # Fill NaN with average value of each class in this dataset\n",
    "    nan_rows = df[df.isna().any(axis=1)].shape[0]\n",
    "    logging.info(\"Fill NaN in {} rows with average value of each class.\".format(nan_rows))\n",
    "    df.iloc[:, df.columns != \"Label\"] = df.groupby(\"Label\").transform(lambda x: x.fillna(x.mean()))\n",
    "\n",
    "    # Change inf value with maximum value of each class\n",
    "    inf_rows = df[df.isin([np.inf]).any(axis=1)].shape[0]\n",
    "    logging.info(\"Replace Inf in {} rows with maximum value of each class.\".format(inf_rows))\n",
    "    # Temporary replace inf with NaN\n",
    "    df = df.replace([np.inf], np.nan)\n",
    "    # Replace inf with maximum value of each class in this dataset\n",
    "    df.iloc[:, df.columns != \"Label\"] = df.groupby(\"Label\").transform(lambda x: x.fillna(x.max()))\n",
    "\n",
    "    # Change negative value with minimum positive value of each class\n",
    "    logging.info(\"Replace negative values with minimum value of each class.\")\n",
    "    # Temporary replace negative value with NaN\n",
    "    df[df < 0] = np.nan\n",
    "    # Replace negative value with minimum value of each class in this dataset\n",
    "    df.iloc[:, df.columns != \"Label\"] = df.groupby(\"Label\").transform(lambda x: x.fillna(x.min()))\n",
    "\n",
    "    return df\n",
    "\n",
    "def _feature_selection(df: pd.DataFrame):\n",
    "    X = df.drop(columns=['Label'])\n",
    "\n",
    "    # Create correlation matrix\n",
    "    corr_matrix = X.corr().abs()\n",
    "    # Select upper triangle of correlation matrix\n",
    "    upper = corr_matrix.where(np.triu(np.ones(corr_matrix.shape), k=1).astype(bool))\n",
    "    # Find features with correlation greater than 0.9\n",
    "    to_drop = [column for column in upper.columns if any(upper[column] > 0.9)]\n",
    "\n",
    "    logging.info(to_drop)\n",
    "\n",
    "    df.drop(to_drop, axis=1, inplace=True)\n",
    "    return df\n",
    "\n",
    "\n",
    "def _split_train_test(df: pd.DataFrame):\n",
    "    # Sampling the dataset\n",
    "    x = df.iloc[:, df.columns != 'Label']\n",
    "    y = df[['Label']]\n",
    "\n",
    "    x_train, x_test, y_train, y_test = train_test_split(x, y, stratify=y, test_size=0.20,\n",
    "                                                        random_state=np.random.randint(10))\n",
    "\n",
    "    del x, y\n",
    "\n",
    "    train = pd.concat([x_train, y_train], axis=1, sort=False)\n",
    "    test = pd.concat([x_test, y_test], axis=1, sort=False)\n",
    "\n",
    "    return train, test\n",
    "\n",
    "\n",
    "def _to_csv(df: pd.DataFrame, saving_path: str):\n",
    "    # if file does not exist write header\n",
    "    if not os.path.isfile(saving_path):\n",
    "        df.to_csv(saving_path, index=False)\n",
    "    # else it exists so append without writing the header\n",
    "    else:\n",
    "        df.to_csv(saving_path, index=False, mode='a', header=False)\n",
    "\n",
    "\n",
    "def _preprocessing_all(le: LabelEncoder, chunksize=1000000):\n",
    "    # Preprocess all file\n",
    "    for chunk in pd.read_csv(FILE_PATH, skipinitialspace=True, chunksize=chunksize):\n",
    "        # train, test = _split_train_test(_feature_selection(_process(chunk, le)))\n",
    "        train, test = _split_train_test(_process(chunk, le))\n",
    "        _to_csv(train, os.path.join(DIR_PATH, \"train_MachineLearningCVE.csv\"))\n",
    "        _to_csv(test, os.path.join(DIR_PATH, \"test_MachineLearningCVE.csv\"))\n",
    "\n",
    "def _preprocessing_validation(le: LabelEncoder, chunksize=1000000):\n",
    "    # Preprocess all file\n",
    "    for chunk in pd.read_csv(VALIDATION_SET_FILE_PATH, skipinitialspace=True, chunksize=chunksize):\n",
    "        validation = _process(chunk, le)\n",
    "        _to_csv(validation, os.path.join(DIR_PATH, \"validation_MachineLearningCVE.csv\"))"
   ]
  },
  {
   "cell_type": "code",
   "execution_count": 54,
   "metadata": {},
   "outputs": [
    {
     "name": "stderr",
     "output_type": "stream",
     "text": [
      "18:56:27 INFO Total rows: (2748030, 1)\n",
      "18:56:28 INFO Class distribution:\n",
      "BENIGN                      2214224\n",
      "DoS Hulk                     231073\n",
      "PortScan                     135090\n",
      "DDoS                         128027\n",
      "DoS GoldenEye                 10293\n",
      "FTP-Patator                    7938\n",
      "SSH-Patator                    5897\n",
      "DoS slowloris                  5796\n",
      "DoS Slowhttptest               5499\n",
      "Bot                            1966\n",
      "Web Attack-Brute Force         1507\n",
      "Web Attack-XSS                  652\n",
      "Infiltration                     36\n",
      "Web Attack-Sql Injection         21\n",
      "Heartbleed                       11\n",
      "Name: Label, dtype: int64\n",
      "\n"
     ]
    }
   ],
   "source": [
    "label_encoder = _label_encoding()"
   ]
  },
  {
   "cell_type": "code",
   "execution_count": 46,
   "metadata": {},
   "outputs": [
    {
     "name": "stderr",
     "output_type": "stream",
     "text": [
      "16:05:41 INFO Fill NaN in 1344 rows with average value of each class.\n",
      "16:06:44 INFO Replace Inf in 2718 rows with maximum value of each class.\n",
      "16:07:28 INFO Replace negative values with minimum value of each class.\n",
      "16:09:35 INFO Fill NaN in 6 rows with average value of each class.\n",
      "16:09:38 INFO Replace Inf in 60 rows with maximum value of each class.\n",
      "16:09:41 INFO Replace negative values with minimum value of each class.\n"
     ]
    }
   ],
   "source": [
    "_preprocessing_all(label_encoder, 2500000)"
   ]
  },
  {
   "cell_type": "code",
   "execution_count": 56,
   "metadata": {},
   "outputs": [
    {
     "name": "stderr",
     "output_type": "stream",
     "text": [
      "18:58:26 INFO Fill NaN in 3 rows with average value of each class.\n",
      "18:58:26 INFO Replace Inf in 57 rows with maximum value of each class.\n",
      "18:58:27 INFO Replace negative values with minimum value of each class.\n"
     ]
    }
   ],
   "source": [
    "_preprocessing_validation(label_encoder, 2500000)"
   ]
  },
  {
   "cell_type": "code",
   "execution_count": 47,
   "metadata": {},
   "outputs": [
    {
     "name": "stderr",
     "output_type": "stream",
     "text": [
      "16:09:53 INFO *** END ***\n"
     ]
    }
   ],
   "source": [
    "logging.info(\"*** END ***\")"
   ]
  }
 ],
 "metadata": {
  "kernelspec": {
   "display_name": "Python 3",
   "language": "python",
   "name": "python3"
  },
  "language_info": {
   "codemirror_mode": {
    "name": "ipython",
    "version": 3
   },
   "file_extension": ".py",
   "mimetype": "text/x-python",
   "name": "python",
   "nbconvert_exporter": "python",
   "pygments_lexer": "ipython3",
   "version": "3.10.11"
  },
  "orig_nbformat": 4,
  "vscode": {
   "interpreter": {
    "hash": "590fc05e1ed446e1fbcc628fa0008e96d4f6e22e106fbb51d01a946bc7e51d3b"
   }
  }
 },
 "nbformat": 4,
 "nbformat_minor": 2
}
